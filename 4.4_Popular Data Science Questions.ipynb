{
 "cells": [
  {
   "cell_type": "markdown",
   "metadata": {},
   "source": [
    "# <font color='blue'> Popular Data Science Questions </font>\n",
    "\n",
    "***by Susan Fisher***"
   ]
  },
  {
   "cell_type": "markdown",
   "metadata": {},
   "source": [
    "The goal of this project is to find the most popular data science questions.  Finding the most common data science questions could be helpful for a company that creates data science content.  The content could be for books, online articles, videos or interactive text-based platforms.  \n",
    "\n",
    "Stack Overflow is a question and answer website about programming.  Stack Exchange is a network of question and answer websites by topic.  Focus on this project will be on the Data Science Stack Exchange (DSSE), https://datascience.stackexchange.com/. The DSSE home page contains a list of questions, list of tags, list of users, and a list of unanswered questions.    \n",
    "\n",
    "Stack Exchange provides a public database for each of its websites, Stack Exchange Data Explorer (SEDE).  The DSSE data can be queried and downloaded here, https://data.stackexchange.com/datascience/query/new."
   ]
  },
  {
   "cell_type": "markdown",
   "metadata": {},
   "source": [
    "The first part of this project will look at 2019 posts for the most common tags.  Each \"Id\" or row of the dataset represents a question, and the tags are keywords or labels that categorize questions.  Deep learning is one of the most common tags.  The generated horizontal bar plots will show general differences in the popularity of the top ten tags.\n",
    "\n",
    "The second part will look at whether deep learning is a passing fad or if it is a topic that will be around for some time.  The entire dataset will be used for this analysis.  Superimposed bar plots and line plot will be generated."
   ]
  },
  {
   "cell_type": "markdown",
   "metadata": {},
   "source": [
    "**Getting the data -  2019 questions**\n",
    "\n",
    "From the Data Science Stack Exchange's database, this SQL query retrieves all question tags from 2019 in the 'Posts' table:\n",
    "\n",
    "    SELECT Id, CreationDate,\n",
    "        Score, ViewCount, Tags,\n",
    "        AnswerCount, FavoriteCount\n",
    "    FROM posts\n",
    "    WHERE PostTypeId = 1 AND YEAR(CreationDate) = 2019;"
   ]
  },
  {
   "cell_type": "code",
   "execution_count": 1,
   "metadata": {},
   "outputs": [],
   "source": [
    "# Read in the csv file as a dataframe, \"q_2019.\"\n",
    "\n",
    "import pandas as pd\n",
    "import matplotlib.pyplot as plt\n",
    "\n",
    "%matplotlib inline\n",
    "\n",
    "q_2019 = pd.read_csv('C:/Users/Name/Documents/Python Scripts/DataSets/2019_questions.csv', parse_dates=['CreationDate'])"
   ]
  },
  {
   "cell_type": "markdown",
   "metadata": {},
   "source": [
    "## <font color='blue'> DATA EXPLORATION - 2019 questions </font>"
   ]
  },
  {
   "cell_type": "code",
   "execution_count": 2,
   "metadata": {},
   "outputs": [
    {
     "data": {
      "text/html": [
       "<div>\n",
       "<style scoped>\n",
       "    .dataframe tbody tr th:only-of-type {\n",
       "        vertical-align: middle;\n",
       "    }\n",
       "\n",
       "    .dataframe tbody tr th {\n",
       "        vertical-align: top;\n",
       "    }\n",
       "\n",
       "    .dataframe thead th {\n",
       "        text-align: right;\n",
       "    }\n",
       "</style>\n",
       "<table border=\"1\" class=\"dataframe\">\n",
       "  <thead>\n",
       "    <tr style=\"text-align: right;\">\n",
       "      <th></th>\n",
       "      <th>Id</th>\n",
       "      <th>CreationDate</th>\n",
       "      <th>Score</th>\n",
       "      <th>ViewCount</th>\n",
       "      <th>Tags</th>\n",
       "      <th>AnswerCount</th>\n",
       "      <th>FavoriteCount</th>\n",
       "    </tr>\n",
       "  </thead>\n",
       "  <tbody>\n",
       "    <tr>\n",
       "      <th>0</th>\n",
       "      <td>54873</td>\n",
       "      <td>2019-07-01 19:58:09</td>\n",
       "      <td>5</td>\n",
       "      <td>2129</td>\n",
       "      <td>&lt;python&gt;&lt;scikit-learn&gt;&lt;unsupervised-learning&gt;&lt;...</td>\n",
       "      <td>1</td>\n",
       "      <td>NaN</td>\n",
       "    </tr>\n",
       "    <tr>\n",
       "      <th>1</th>\n",
       "      <td>54877</td>\n",
       "      <td>2019-07-01 21:59:22</td>\n",
       "      <td>2</td>\n",
       "      <td>339</td>\n",
       "      <td>&lt;machine-learning&gt;&lt;neural-network&gt;&lt;deep-learni...</td>\n",
       "      <td>3</td>\n",
       "      <td>2.0</td>\n",
       "    </tr>\n",
       "  </tbody>\n",
       "</table>\n",
       "</div>"
      ],
      "text/plain": [
       "      Id        CreationDate  Score  ViewCount  \\\n",
       "0  54873 2019-07-01 19:58:09      5       2129   \n",
       "1  54877 2019-07-01 21:59:22      2        339   \n",
       "\n",
       "                                                Tags  AnswerCount  \\\n",
       "0  <python><scikit-learn><unsupervised-learning><...            1   \n",
       "1  <machine-learning><neural-network><deep-learni...            3   \n",
       "\n",
       "   FavoriteCount  \n",
       "0            NaN  \n",
       "1            2.0  "
      ]
     },
     "execution_count": 2,
     "metadata": {},
     "output_type": "execute_result"
    }
   ],
   "source": [
    "q_2019.head(2)"
   ]
  },
  {
   "cell_type": "code",
   "execution_count": 3,
   "metadata": {},
   "outputs": [
    {
     "data": {
      "text/plain": [
       "(6871, 7)"
      ]
     },
     "execution_count": 3,
     "metadata": {},
     "output_type": "execute_result"
    }
   ],
   "source": [
    "q_2019.shape"
   ]
  },
  {
   "cell_type": "code",
   "execution_count": 4,
   "metadata": {},
   "outputs": [
    {
     "name": "stdout",
     "output_type": "stream",
     "text": [
      "<class 'pandas.core.frame.DataFrame'>\n",
      "RangeIndex: 6871 entries, 0 to 6870\n",
      "Data columns (total 7 columns):\n",
      " #   Column         Non-Null Count  Dtype         \n",
      "---  ------         --------------  -----         \n",
      " 0   Id             6871 non-null   int64         \n",
      " 1   CreationDate   6871 non-null   datetime64[ns]\n",
      " 2   Score          6871 non-null   int64         \n",
      " 3   ViewCount      6871 non-null   int64         \n",
      " 4   Tags           6871 non-null   object        \n",
      " 5   AnswerCount    6871 non-null   int64         \n",
      " 6   FavoriteCount  1555 non-null   float64       \n",
      "dtypes: datetime64[ns](1), float64(1), int64(4), object(1)\n",
      "memory usage: 375.9+ KB\n"
     ]
    }
   ],
   "source": [
    "q_2019.info()"
   ]
  },
  {
   "cell_type": "markdown",
   "metadata": {},
   "source": [
    "## <font color='blue'> DATA CLEANING - 2019 questions </font>"
   ]
  },
  {
   "cell_type": "markdown",
   "metadata": {},
   "source": [
    "The following data cleaning is needed before analysis:  \n",
    "\n",
    "- \"FavoriteCount\" has a lot of missing values, 5,316 are missing out of 6871.  The missing values will be replaced with \"0,\" and the type changed to integer.\n",
    "\n",
    "- The \"Tags\" column needs to have \"<,\" and \">\" removed, and converted to a list of strings."
   ]
  },
  {
   "cell_type": "code",
   "execution_count": 5,
   "metadata": {},
   "outputs": [
    {
     "name": "stdout",
     "output_type": "stream",
     "text": [
      "0\n",
      "int32\n"
     ]
    }
   ],
   "source": [
    "# \"FavoriteCount\" column: replace missing values with '0,' and change to integer type\n",
    "\n",
    "q_2019['FavoriteCount'] = q_2019['FavoriteCount'].fillna(0).astype(int)\n",
    "\n",
    "#Verify no null values and the column type\n",
    "print(q_2019['FavoriteCount'].isnull().sum())\n",
    "print(q_2019['FavoriteCount'].dtype)"
   ]
  },
  {
   "cell_type": "code",
   "execution_count": 6,
   "metadata": {},
   "outputs": [
    {
     "data": {
      "text/plain": [
       "0    <python><scikit-learn><unsupervised-learning><...\n",
       "1    <machine-learning><neural-network><deep-learni...\n",
       "2                         <anomaly-detection><outlier>\n",
       "3    <machine-learning><statistics><data-science-mo...\n",
       "4                            <orange><opencv><orange3>\n",
       "5    <keras><computer-vision><image-preprocessing><...\n",
       "6                    <deep-learning><tensorflow><bert>\n",
       "7                                <python><forecasting>\n",
       "8    <machine-learning><python><pandas><data-scienc...\n",
       "9       <machine-learning><python><nlp><data-cleaning>\n",
       "Name: Tags, dtype: object"
      ]
     },
     "execution_count": 6,
     "metadata": {},
     "output_type": "execute_result"
    }
   ],
   "source": [
    "# \"Tags\" column: remove \"<,\" and \">,\" and split strings into list of strings\n",
    "# View some rows before cleaning.\n",
    "\n",
    "q_2019['Tags'].head(10)"
   ]
  },
  {
   "cell_type": "code",
   "execution_count": 7,
   "metadata": {},
   "outputs": [
    {
     "data": {
      "text/plain": [
       "0    [python, scikit-learn, unsupervised-learning, ...\n",
       "1    [machine-learning, neural-network, deep-learni...\n",
       "2                         [anomaly-detection, outlier]\n",
       "3    [machine-learning, statistics, data-science-mo...\n",
       "4                            [orange, opencv, orange3]\n",
       "5    [keras, computer-vision, image-preprocessing, ...\n",
       "6                    [deep-learning, tensorflow, bert]\n",
       "7                                [python, forecasting]\n",
       "8    [machine-learning, python, pandas, data-scienc...\n",
       "9       [machine-learning, python, nlp, data-cleaning]\n",
       "Name: Tags, dtype: object"
      ]
     },
     "execution_count": 7,
     "metadata": {},
     "output_type": "execute_result"
    }
   ],
   "source": [
    "# \"Tags\" column: remove \"<,\" and \">,\" and split strings into list of strings\n",
    "\n",
    "q_2019['Tags'] = q_2019['Tags'].str.replace(\"^<|>$\",'').str.split('><')\n",
    "\n",
    "# View some rows to verify cleaning.\n",
    "q_2019['Tags'].head(10)"
   ]
  },
  {
   "cell_type": "markdown",
   "metadata": {},
   "source": [
    "## <font color='blue'> DATA ANALYSIS - most popular tags </font>\n",
    "\n",
    "In order to find the most popular data science question categories on the Stack Exchange\n",
    "1) The most common tags will be found, by counting the tags in the dataset.\n",
    "2) The most common tags based on the number of views for the question, \"ViewCount\" column, will be computed.\n",
    "    - And the tags that are in (2), but not in (1) will be found."
   ]
  },
  {
   "cell_type": "markdown",
   "metadata": {},
   "source": [
    "**Data Analysis - (1) count tags**"
   ]
  },
  {
   "cell_type": "code",
   "execution_count": 8,
   "metadata": {},
   "outputs": [
    {
     "data": {
      "text/plain": [
       "dict"
      ]
     },
     "execution_count": 8,
     "metadata": {},
     "output_type": "execute_result"
    }
   ],
   "source": [
    "# Create dictionary of tags.  Keys are tags, and values are the counts of the tags.\n",
    "\n",
    "tag_count = {}\n",
    "for row in q_2019['Tags']:\n",
    "    for tag in row:      \n",
    "        if tag in tag_count:\n",
    "            tag_count[tag] += 1\n",
    "        else:\n",
    "            tag_count[tag] = 1 \n",
    "\n",
    "type(tag_count)"
   ]
  },
  {
   "cell_type": "code",
   "execution_count": 9,
   "metadata": {},
   "outputs": [
    {
     "name": "stdout",
     "output_type": "stream",
     "text": [
      "(496, 1)\n",
      "                  TagCount\n",
      "machine-learning      2153\n",
      "python                1465\n",
      "deep-learning          903\n",
      "neural-network         830\n",
      "keras                  715\n",
      "classification         583\n",
      "scikit-learn           449\n",
      "tensorflow             422\n",
      "nlp                    397\n",
      "cnn                    381\n"
     ]
    }
   ],
   "source": [
    "# Convert dictionary, tag_count, to a dataframe, tag_count_df.\n",
    "# The dataframe, tag_count_df, index column contains the tags. \n",
    "\n",
    "# First, convert dictionary to series.\n",
    "tag_count_s = pd.Series(tag_count).sort_values(ascending=False)\n",
    "\n",
    "# Then convert series to dataframe.\n",
    "tag_count_df = pd.DataFrame(tag_count_s, columns=['TagCount'])\n",
    "\n",
    "print(tag_count_df.shape)\n",
    "print(tag_count_df.head(10))"
   ]
  },
  {
   "cell_type": "code",
   "execution_count": 10,
   "metadata": {},
   "outputs": [
    {
     "data": {
      "text/html": [
       "<div>\n",
       "<style scoped>\n",
       "    .dataframe tbody tr th:only-of-type {\n",
       "        vertical-align: middle;\n",
       "    }\n",
       "\n",
       "    .dataframe tbody tr th {\n",
       "        vertical-align: top;\n",
       "    }\n",
       "\n",
       "    .dataframe thead th {\n",
       "        text-align: right;\n",
       "    }\n",
       "</style>\n",
       "<table border=\"1\" class=\"dataframe\">\n",
       "  <thead>\n",
       "    <tr style=\"text-align: right;\">\n",
       "      <th></th>\n",
       "      <th>TagCount</th>\n",
       "    </tr>\n",
       "  </thead>\n",
       "  <tbody>\n",
       "    <tr>\n",
       "      <th>cnn</th>\n",
       "      <td>381</td>\n",
       "    </tr>\n",
       "    <tr>\n",
       "      <th>nlp</th>\n",
       "      <td>397</td>\n",
       "    </tr>\n",
       "    <tr>\n",
       "      <th>tensorflow</th>\n",
       "      <td>422</td>\n",
       "    </tr>\n",
       "    <tr>\n",
       "      <th>scikit-learn</th>\n",
       "      <td>449</td>\n",
       "    </tr>\n",
       "    <tr>\n",
       "      <th>classification</th>\n",
       "      <td>583</td>\n",
       "    </tr>\n",
       "    <tr>\n",
       "      <th>keras</th>\n",
       "      <td>715</td>\n",
       "    </tr>\n",
       "    <tr>\n",
       "      <th>neural-network</th>\n",
       "      <td>830</td>\n",
       "    </tr>\n",
       "    <tr>\n",
       "      <th>deep-learning</th>\n",
       "      <td>903</td>\n",
       "    </tr>\n",
       "    <tr>\n",
       "      <th>python</th>\n",
       "      <td>1465</td>\n",
       "    </tr>\n",
       "    <tr>\n",
       "      <th>machine-learning</th>\n",
       "      <td>2153</td>\n",
       "    </tr>\n",
       "  </tbody>\n",
       "</table>\n",
       "</div>"
      ],
      "text/plain": [
       "                  TagCount\n",
       "cnn                    381\n",
       "nlp                    397\n",
       "tensorflow             422\n",
       "scikit-learn           449\n",
       "classification         583\n",
       "keras                  715\n",
       "neural-network         830\n",
       "deep-learning          903\n",
       "python                1465\n",
       "machine-learning      2153"
      ]
     },
     "execution_count": 10,
     "metadata": {},
     "output_type": "execute_result"
    }
   ],
   "source": [
    "# Top 10 Tags\n",
    "most_used = tag_count_df.head(10).sort_values('TagCount', ascending=True)\n",
    "most_used"
   ]
  },
  {
   "cell_type": "markdown",
   "metadata": {},
   "source": [
    "**Horizontal Bar Plot of most used tags**"
   ]
  },
  {
   "cell_type": "code",
   "execution_count": 11,
   "metadata": {},
   "outputs": [
    {
     "data": {
      "text/plain": [
       "<matplotlib.axes._subplots.AxesSubplot at 0x23317b8f040>"
      ]
     },
     "execution_count": 11,
     "metadata": {},
     "output_type": "execute_result"
    },
    {
     "data": {
      "image/png": "[encoded data removed]",
      "text/plain": [
       "<Figure size 576x288 with 1 Axes>"
      ]
     },
     "metadata": {
      "needs_background": "light"
     },
     "output_type": "display_data"
    }
   ],
   "source": [
    "most_used.plot(kind='barh', \n",
    "              title='Top tags in Data Science',\n",
    "             figsize=(8,4))"
   ]
  },
  {
   "cell_type": "markdown",
   "metadata": {},
   "source": [
    "**Data Analysis - (2) \"ViewCount\" of each tag**"
   ]
  },
  {
   "cell_type": "code",
   "execution_count": 12,
   "metadata": {},
   "outputs": [
    {
     "data": {
      "text/html": [
       "<div>\n",
       "<style scoped>\n",
       "    .dataframe tbody tr th:only-of-type {\n",
       "        vertical-align: middle;\n",
       "    }\n",
       "\n",
       "    .dataframe tbody tr th {\n",
       "        vertical-align: top;\n",
       "    }\n",
       "\n",
       "    .dataframe thead th {\n",
       "        text-align: right;\n",
       "    }\n",
       "</style>\n",
       "<table border=\"1\" class=\"dataframe\">\n",
       "  <thead>\n",
       "    <tr style=\"text-align: right;\">\n",
       "      <th></th>\n",
       "      <th>ViewCount</th>\n",
       "    </tr>\n",
       "  </thead>\n",
       "  <tbody>\n",
       "    <tr>\n",
       "      <th>dataframe</th>\n",
       "      <td>283428</td>\n",
       "    </tr>\n",
       "    <tr>\n",
       "      <th>classification</th>\n",
       "      <td>296666</td>\n",
       "    </tr>\n",
       "    <tr>\n",
       "      <th>tensorflow</th>\n",
       "      <td>352929</td>\n",
       "    </tr>\n",
       "    <tr>\n",
       "      <th>scikit-learn</th>\n",
       "      <td>390947</td>\n",
       "    </tr>\n",
       "    <tr>\n",
       "      <th>neural-network</th>\n",
       "      <td>517541</td>\n",
       "    </tr>\n",
       "    <tr>\n",
       "      <th>deep-learning</th>\n",
       "      <td>606036</td>\n",
       "    </tr>\n",
       "    <tr>\n",
       "      <th>keras</th>\n",
       "      <td>712864</td>\n",
       "    </tr>\n",
       "    <tr>\n",
       "      <th>pandas</th>\n",
       "      <td>750315</td>\n",
       "    </tr>\n",
       "    <tr>\n",
       "      <th>machine-learning</th>\n",
       "      <td>1061220</td>\n",
       "    </tr>\n",
       "    <tr>\n",
       "      <th>python</th>\n",
       "      <td>1638393</td>\n",
       "    </tr>\n",
       "  </tbody>\n",
       "</table>\n",
       "</div>"
      ],
      "text/plain": [
       "                  ViewCount\n",
       "dataframe            283428\n",
       "classification       296666\n",
       "tensorflow           352929\n",
       "scikit-learn         390947\n",
       "neural-network       517541\n",
       "deep-learning        606036\n",
       "keras                712864\n",
       "pandas               750315\n",
       "machine-learning    1061220\n",
       "python              1638393"
      ]
     },
     "execution_count": 12,
     "metadata": {},
     "output_type": "execute_result"
    }
   ],
   "source": [
    "# Create dictionary, view_count, of the tags and counts the \"ViewCount.\"\n",
    "\n",
    "view_count = {}\n",
    "for index, row in q_2019.iterrows():\n",
    "    for tag in row['Tags']:      \n",
    "        if tag in view_count:\n",
    "            view_count[tag] += row['ViewCount']\n",
    "        else:\n",
    "            view_count[tag] = row['ViewCount']\n",
    "\n",
    "# Convert dictionary, view_count, to a series, then to a dataframe.\n",
    "view_count_s = pd.Series(view_count).sort_values(ascending=False)\n",
    "view_count_df = pd.DataFrame(view_count_s, columns=['ViewCount'])\n",
    "most_viewed = view_count_df.head(10).sort_values('ViewCount', ascending=True)\n",
    "most_viewed"
   ]
  },
  {
   "cell_type": "markdown",
   "metadata": {},
   "source": [
    "**Horizontal Bar Plot of most viewed tags**"
   ]
  },
  {
   "cell_type": "code",
   "execution_count": 13,
   "metadata": {},
   "outputs": [
    {
     "data": {
      "text/plain": [
       "<matplotlib.axes._subplots.AxesSubplot at 0x233184b9ee0>"
      ]
     },
     "execution_count": 13,
     "metadata": {},
     "output_type": "execute_result"
    },
    {
     "data": {
      "image/png": "[encoded data removed]",
      "text/plain": [
       "<Figure size 576x288 with 1 Axes>"
      ]
     },
     "metadata": {
      "needs_background": "light"
     },
     "output_type": "display_data"
    }
   ],
   "source": [
    "# Horizontal bar plot of of most_viewed tags.\n",
    "\n",
    "most_viewed.plot(kind='barh', \n",
    "              title='Most viewed tags in Data Science',\n",
    "             figsize=(8,4))"
   ]
  },
  {
   "cell_type": "markdown",
   "metadata": {},
   "source": [
    "**Side by side bar plots**  "
   ]
  },
  {
   "cell_type": "code",
   "execution_count": 14,
   "metadata": {},
   "outputs": [
    {
     "data": {
      "text/plain": [
       "array([<matplotlib.axes._subplots.AxesSubplot object at 0x000002331869F100>],\n",
       "      dtype=object)"
      ]
     },
     "execution_count": 14,
     "metadata": {},
     "output_type": "execute_result"
    },
    {
     "data": {
      "image/png": "[encoded data removed]",
      "text/plain": [
       "<Figure size 1728x720 with 2 Axes>"
      ]
     },
     "metadata": {
      "needs_background": "light"
     },
     "output_type": "display_data"
    }
   ],
   "source": [
    "fig, axes = plt.subplots(nrows=1, ncols=2)\n",
    "fig.set_size_inches((24, 10))\n",
    "most_used.plot(kind=\"barh\", ax=axes[0], subplots=True)\n",
    "most_viewed.plot(kind=\"barh\", ax=axes[1], subplots=True)"
   ]
  },
  {
   "cell_type": "markdown",
   "metadata": {},
   "source": [
    "**Analysis**  \n",
    "\n",
    "When tags were counted, the five most common tags in the questions were machine learning, python, deep learning, neural network, and keras.  When the \"ViewCount\" was counted for each tag, the five most common tags were python, machine-learning, pandas, keras, and deep learning.  The top five tags are similar for both.  \n",
    "\n",
    "Though, \"ViewCount\" is the count of the number of views by tag, it is a better indicator of the popularity of a topic.  "
   ]
  },
  {
   "cell_type": "markdown",
   "metadata": {},
   "source": [
    "## <font color='blue'> DATA ANALYSIS - is Deep Learning just a Fad? </font>\n",
    "\n",
    "The second part of this project will look at whether one of the most common tags, deep learning, is a topic that is timeless or just a passing fad.  A larger dataset that spans over more than one year will be needed, so the entire dataset will be downloaded from the Data Science Stack Exchange.  The data will be cleaned, and then it will be separated by quarters to view interest in deep learning over time.  "
   ]
  },
  {
   "cell_type": "markdown",
   "metadata": {},
   "source": [
    "**Getting the data - all questions**\n",
    "\n",
    "From the Data Science Stack Exchange's database, this SQL query retrieves all question tags from the 'Posts' table:\n",
    "\n",
    "    SELECT Id, CreationDate, Tags\n",
    "      FROM posts\n",
    "     WHERE PostTypeId = 1;"
   ]
  },
  {
   "cell_type": "code",
   "execution_count": 15,
   "metadata": {},
   "outputs": [],
   "source": [
    "# Read in the csv file as a dataframe, \"all_q.\"\n",
    "# Convert \"CreationDate\" column to datetime type.\n",
    "\n",
    "all_q = pd.read_csv('C:/Users/Name/Documents/Python Scripts/DataSets/all_questions.csv', parse_dates=['CreationDate'])"
   ]
  },
  {
   "cell_type": "markdown",
   "metadata": {},
   "source": [
    "### DATA EXPLORATION - all questions"
   ]
  },
  {
   "cell_type": "code",
   "execution_count": 16,
   "metadata": {},
   "outputs": [
    {
     "name": "stdout",
     "output_type": "stream",
     "text": [
      "<class 'pandas.core.frame.DataFrame'>\n",
      "RangeIndex: 26279 entries, 0 to 26278\n",
      "Data columns (total 3 columns):\n",
      " #   Column        Non-Null Count  Dtype         \n",
      "---  ------        --------------  -----         \n",
      " 0   Id            26279 non-null  int64         \n",
      " 1   CreationDate  26279 non-null  datetime64[ns]\n",
      " 2   Tags          26279 non-null  object        \n",
      "dtypes: datetime64[ns](1), int64(1), object(1)\n",
      "memory usage: 616.0+ KB\n"
     ]
    }
   ],
   "source": [
    "all_q.info()"
   ]
  },
  {
   "cell_type": "code",
   "execution_count": 17,
   "metadata": {},
   "outputs": [
    {
     "data": {
      "text/html": [
       "<div>\n",
       "<style scoped>\n",
       "    .dataframe tbody tr th:only-of-type {\n",
       "        vertical-align: middle;\n",
       "    }\n",
       "\n",
       "    .dataframe tbody tr th {\n",
       "        vertical-align: top;\n",
       "    }\n",
       "\n",
       "    .dataframe thead th {\n",
       "        text-align: right;\n",
       "    }\n",
       "</style>\n",
       "<table border=\"1\" class=\"dataframe\">\n",
       "  <thead>\n",
       "    <tr style=\"text-align: right;\">\n",
       "      <th></th>\n",
       "      <th>Id</th>\n",
       "      <th>CreationDate</th>\n",
       "      <th>Tags</th>\n",
       "    </tr>\n",
       "  </thead>\n",
       "  <tbody>\n",
       "    <tr>\n",
       "      <th>0</th>\n",
       "      <td>24038</td>\n",
       "      <td>2017-10-24 12:33:54</td>\n",
       "      <td>&lt;classification&gt;&lt;preprocessing&gt;&lt;normalization&gt;</td>\n",
       "    </tr>\n",
       "    <tr>\n",
       "      <th>1</th>\n",
       "      <td>24041</td>\n",
       "      <td>2017-10-24 13:37:18</td>\n",
       "      <td>&lt;preprocessing&gt;&lt;normalization&gt;</td>\n",
       "    </tr>\n",
       "    <tr>\n",
       "      <th>2</th>\n",
       "      <td>24047</td>\n",
       "      <td>2017-10-24 19:32:54</td>\n",
       "      <td>&lt;nlp&gt;&lt;sentiment-analysis&gt;</td>\n",
       "    </tr>\n",
       "    <tr>\n",
       "      <th>3</th>\n",
       "      <td>24052</td>\n",
       "      <td>2017-10-25 02:43:49</td>\n",
       "      <td>&lt;python&gt;&lt;r&gt;&lt;pandas&gt;&lt;data&gt;&lt;data.table&gt;</td>\n",
       "    </tr>\n",
       "    <tr>\n",
       "      <th>4</th>\n",
       "      <td>24054</td>\n",
       "      <td>2017-10-25 06:41:40</td>\n",
       "      <td>&lt;clustering&gt;&lt;feature-selection&gt;&lt;feature-engine...</td>\n",
       "    </tr>\n",
       "  </tbody>\n",
       "</table>\n",
       "</div>"
      ],
      "text/plain": [
       "      Id        CreationDate  \\\n",
       "0  24038 2017-10-24 12:33:54   \n",
       "1  24041 2017-10-24 13:37:18   \n",
       "2  24047 2017-10-24 19:32:54   \n",
       "3  24052 2017-10-25 02:43:49   \n",
       "4  24054 2017-10-25 06:41:40   \n",
       "\n",
       "                                                Tags  \n",
       "0     <classification><preprocessing><normalization>  \n",
       "1                     <preprocessing><normalization>  \n",
       "2                          <nlp><sentiment-analysis>  \n",
       "3              <python><r><pandas><data><data.table>  \n",
       "4  <clustering><feature-selection><feature-engine...  "
      ]
     },
     "execution_count": 17,
     "metadata": {},
     "output_type": "execute_result"
    }
   ],
   "source": [
    "all_q.head()"
   ]
  },
  {
   "cell_type": "markdown",
   "metadata": {},
   "source": [
    "### DATA CLEANING - all questions"
   ]
  },
  {
   "cell_type": "markdown",
   "metadata": {},
   "source": [
    "Just as with the 2019 questions cleaning, the \"Tags\" column requires the same cleaning:\n",
    "\n",
    "- The \"Tags\" column needs to have \"<,\" and \">\" removed, and converted to a list of strings."
   ]
  },
  {
   "cell_type": "code",
   "execution_count": 18,
   "metadata": {},
   "outputs": [
    {
     "data": {
      "text/plain": [
       "0       [classification, preprocessing, normalization]\n",
       "1                       [preprocessing, normalization]\n",
       "2                            [nlp, sentiment-analysis]\n",
       "3                [python, r, pandas, data, data.table]\n",
       "4    [clustering, feature-selection, feature-engine...\n",
       "Name: Tags, dtype: object"
      ]
     },
     "execution_count": 18,
     "metadata": {},
     "output_type": "execute_result"
    }
   ],
   "source": [
    "# Clean the \"Tags\" column.\n",
    "\n",
    "all_q['Tags'] = all_q['Tags'].str.replace(\"^<|>$\",'').str.split('><')\n",
    "all_q['Tags'].head()"
   ]
  },
  {
   "cell_type": "markdown",
   "metadata": {},
   "source": [
    "### DATA ANALYSIS - all questions\n",
    "\n"
   ]
  },
  {
   "cell_type": "markdown",
   "metadata": {},
   "source": [
    "To view the interest in deep learning questions over time, the analysis will divide the data by quarters from 7-1-2014 to 9-30-2020.  \n",
    "Then for each quarter, the following will be computer:\n",
    "- Total deep learning tags per quarter\n",
    "- Total questions per quarter\n",
    "- Rate of deep learning questions per quarter"
   ]
  },
  {
   "cell_type": "code",
   "execution_count": 19,
   "metadata": {},
   "outputs": [
    {
     "name": "stdout",
     "output_type": "stream",
     "text": [
      "2014-05-13 23:58:30\n",
      "2020-12-06 03:01:58\n"
     ]
    }
   ],
   "source": [
    "# View beginning and ending time frame of the data.\n",
    "\n",
    "print(all_q['CreationDate'].min())\n",
    "print(all_q['CreationDate'].max())"
   ]
  },
  {
   "cell_type": "markdown",
   "metadata": {},
   "source": [
    "For a calendar year, the quarters are as follows:\n",
    "- 1st quarter:  January, February, and March\n",
    "- 2nd quarter: April, May, June\n",
    "- 3rd quarter: July, August, September\n",
    "- 4th quarter: October, November, December\n",
    "\n",
    "Data for only a portion of a quarter can give erroneous results.  Therefore, since there is only data for half of second quarter of 2014, then the timeframe for the analysis will start on July 1, 2014.  For a similar reason, then the data will be cut off at September 30, 2020, and the timeframe will be July 1, 2014 to September 30, 2020."
   ]
  },
  {
   "cell_type": "code",
   "execution_count": 20,
   "metadata": {},
   "outputs": [
    {
     "name": "stdout",
     "output_type": "stream",
     "text": [
      "2014-07-01 13:44:23\n",
      "2020-09-30 21:05:47\n"
     ]
    }
   ],
   "source": [
    "# \"CreationDate\" column: extract year and month.\n",
    "# Remove data outside of the timeframe of 7-1-2014 to 9-30-2020.\n",
    "\n",
    "year = all_q['CreationDate'].dt.year\n",
    "month = all_q['CreationDate'].dt.month\n",
    "all_q['YearMonth'] = 100*year + month\n",
    "\n",
    "# Filter dataframe to exclude dates outside of timeframe\n",
    "all_q = all_q[all_q['YearMonth'] < 202010]\n",
    "all_q = all_q[all_q['YearMonth'] > 201406]\n",
    "\n",
    "# Verify timeframe is as expected.\n",
    "print(all_q['CreationDate'].min())\n",
    "print(all_q['CreationDate'].max())"
   ]
  },
  {
   "cell_type": "code",
   "execution_count": 21,
   "metadata": {},
   "outputs": [
    {
     "name": "stdout",
     "output_type": "stream",
     "text": [
      "2    6940\n",
      "3    6762\n",
      "1    6385\n",
      "4    4873\n",
      "Name: qtr_number, dtype: int64\n"
     ]
    }
   ],
   "source": [
    "# Create a column, \"qtr_number,\" that assigns an integer based on the quarter that \"CreationDate\" is in.  \n",
    "all_q['qtr_number'] = all_q['CreationDate'].dt.quarter.astype(str)\n",
    "\n",
    "# View number of values in each quarter, and \"qtr_number\" type.\n",
    "print(all_q['qtr_number'].value_counts())"
   ]
  },
  {
   "cell_type": "code",
   "execution_count": 22,
   "metadata": {},
   "outputs": [
    {
     "name": "stdout",
     "output_type": "stream",
     "text": [
      "2020Q2    2281\n",
      "2020Q1    2048\n",
      "Name: YearQuarter, dtype: int64\n",
      "\n",
      "\n",
      "2015Q1    189\n",
      "2014Q3    188\n",
      "Name: YearQuarter, dtype: int64\n"
     ]
    }
   ],
   "source": [
    "# Create a column, \"year_quarter,\" with the year and quarter number in the format, yyyyQ#.\n",
    "\n",
    "# Variable, \"year,\" extracts the year from the \"CreationDate\" column\n",
    "year = all_q[\"CreationDate\"].dt.year.astype(str)\n",
    "\n",
    "# Create column, \"year_quarter,\" with year and quarter number.\n",
    "all_q['YearQuarter'] = year + 'Q' + all_q['qtr_number']\n",
    "\n",
    "# View start and end of values.\n",
    "print(all_q['YearQuarter'].value_counts().head(2))\n",
    "print('\\n')\n",
    "print(all_q['YearQuarter'].value_counts().tail(2))"
   ]
  },
  {
   "cell_type": "markdown",
   "metadata": {},
   "source": [
    "**Compute total number of questions per quarter**"
   ]
  },
  {
   "cell_type": "code",
   "execution_count": 23,
   "metadata": {},
   "outputs": [
    {
     "data": {
      "text/html": [
       "<div>\n",
       "<style scoped>\n",
       "    .dataframe tbody tr th:only-of-type {\n",
       "        vertical-align: middle;\n",
       "    }\n",
       "\n",
       "    .dataframe tbody tr th {\n",
       "        vertical-align: top;\n",
       "    }\n",
       "\n",
       "    .dataframe thead th {\n",
       "        text-align: right;\n",
       "    }\n",
       "</style>\n",
       "<table border=\"1\" class=\"dataframe\">\n",
       "  <thead>\n",
       "    <tr style=\"text-align: right;\">\n",
       "      <th></th>\n",
       "      <th>Id</th>\n",
       "      <th>CreationDate</th>\n",
       "      <th>Tags</th>\n",
       "      <th>YearMonth</th>\n",
       "      <th>qtr_number</th>\n",
       "      <th>YearQuarter</th>\n",
       "    </tr>\n",
       "  </thead>\n",
       "  <tbody>\n",
       "    <tr>\n",
       "      <th>0</th>\n",
       "      <td>24038</td>\n",
       "      <td>2017-10-24 12:33:54</td>\n",
       "      <td>[classification, preprocessing, normalization]</td>\n",
       "      <td>201710</td>\n",
       "      <td>4</td>\n",
       "      <td>2017Q4</td>\n",
       "    </tr>\n",
       "    <tr>\n",
       "      <th>1</th>\n",
       "      <td>24041</td>\n",
       "      <td>2017-10-24 13:37:18</td>\n",
       "      <td>[preprocessing, normalization]</td>\n",
       "      <td>201710</td>\n",
       "      <td>4</td>\n",
       "      <td>2017Q4</td>\n",
       "    </tr>\n",
       "  </tbody>\n",
       "</table>\n",
       "</div>"
      ],
      "text/plain": [
       "      Id        CreationDate                                            Tags  \\\n",
       "0  24038 2017-10-24 12:33:54  [classification, preprocessing, normalization]   \n",
       "1  24041 2017-10-24 13:37:18                  [preprocessing, normalization]   \n",
       "\n",
       "   YearMonth qtr_number YearQuarter  \n",
       "0     201710          4      2017Q4  \n",
       "1     201710          4      2017Q4  "
      ]
     },
     "execution_count": 23,
     "metadata": {},
     "output_type": "execute_result"
    }
   ],
   "source": [
    "all_q.head(2)"
   ]
  },
  {
   "cell_type": "code",
   "execution_count": 24,
   "metadata": {},
   "outputs": [
    {
     "data": {
      "text/html": [
       "<div>\n",
       "<style scoped>\n",
       "    .dataframe tbody tr th:only-of-type {\n",
       "        vertical-align: middle;\n",
       "    }\n",
       "\n",
       "    .dataframe tbody tr th {\n",
       "        vertical-align: top;\n",
       "    }\n",
       "\n",
       "    .dataframe thead th {\n",
       "        text-align: right;\n",
       "    }\n",
       "</style>\n",
       "<table border=\"1\" class=\"dataframe\">\n",
       "  <thead>\n",
       "    <tr style=\"text-align: right;\">\n",
       "      <th></th>\n",
       "      <th>TotalQuestions</th>\n",
       "    </tr>\n",
       "    <tr>\n",
       "      <th>YearQuarter</th>\n",
       "      <th></th>\n",
       "    </tr>\n",
       "  </thead>\n",
       "  <tbody>\n",
       "    <tr>\n",
       "      <th>2014Q3</th>\n",
       "      <td>188</td>\n",
       "    </tr>\n",
       "    <tr>\n",
       "      <th>2014Q4</th>\n",
       "      <td>214</td>\n",
       "    </tr>\n",
       "    <tr>\n",
       "      <th>2015Q1</th>\n",
       "      <td>189</td>\n",
       "    </tr>\n",
       "    <tr>\n",
       "      <th>2015Q2</th>\n",
       "      <td>284</td>\n",
       "    </tr>\n",
       "    <tr>\n",
       "      <th>2015Q3</th>\n",
       "      <td>310</td>\n",
       "    </tr>\n",
       "  </tbody>\n",
       "</table>\n",
       "</div>"
      ],
      "text/plain": [
       "             TotalQuestions\n",
       "YearQuarter                \n",
       "2014Q3                  188\n",
       "2014Q4                  214\n",
       "2015Q1                  189\n",
       "2015Q2                  284\n",
       "2015Q3                  310"
      ]
     },
     "execution_count": 24,
     "metadata": {},
     "output_type": "execute_result"
    }
   ],
   "source": [
    "# Compute total number of questions per quarter.  Each \"Id\" or row of the dataset represents a question.\n",
    "\n",
    "# Groupby \"YearQuarter,\" and count total rows in each group.\n",
    "all_q_qtr_series = all_q.groupby('YearQuarter').size()\n",
    "\n",
    "# Convert the series to a dataframe.\n",
    "all_q_qtr = pd.DataFrame(all_q_qtr_series)\n",
    "\n",
    "# Add column name.\n",
    "all_q_qtr.columns = ['TotalQuestions']\n",
    "\n",
    "# View first five rows.\n",
    "all_q_qtr.head()"
   ]
  },
  {
   "cell_type": "markdown",
   "metadata": {},
   "source": [
    "**Compute total deep learning questions by quarter**  \n",
    "\n",
    "Other than the \"deep-learning\" tag, some of the tags are associated with deep learning such as lstm, cnn, scikit-learn, tensorflow, keras, and neural-network.  So any of those tags will be considered to be deep learning and won't be counted twice.  "
   ]
  },
  {
   "cell_type": "code",
   "execution_count": 25,
   "metadata": {},
   "outputs": [
    {
     "data": {
      "text/plain": [
       "0    15831\n",
       "1     9129\n",
       "Name: dl_tag, dtype: int64"
      ]
     },
     "execution_count": 25,
     "metadata": {},
     "output_type": "execute_result"
    }
   ],
   "source": [
    "# Create a function, deep_learning_tags, that for each row of question that:\n",
    "#      returns 1, if a deep learning tag is found in the \"Tags\" column\n",
    "#      returns 0, if a deep learning tag is not found in the \"Tags\" column\n",
    "\n",
    "# Deep learning tags: \n",
    "dl_tags = [\"lstm\", \"cnn\", \"scikit-learn\", \"tensorflow\", \n",
    "           \"keras\", \"neural-network\", \"deep-learning\"]\n",
    "\n",
    "def deep_learning_tags(row):\n",
    "    for tag in row:\n",
    "        if tag in dl_tags:\n",
    "            return 1\n",
    "    return 0\n",
    "\n",
    "all_q['dl_tag'] = all_q['Tags'].apply(deep_learning_tags)\n",
    "all_q['dl_tag'].value_counts()"
   ]
  },
  {
   "cell_type": "code",
   "execution_count": 26,
   "metadata": {},
   "outputs": [
    {
     "data": {
      "text/html": [
       "<div>\n",
       "<style scoped>\n",
       "    .dataframe tbody tr th:only-of-type {\n",
       "        vertical-align: middle;\n",
       "    }\n",
       "\n",
       "    .dataframe tbody tr th {\n",
       "        vertical-align: top;\n",
       "    }\n",
       "\n",
       "    .dataframe thead th {\n",
       "        text-align: right;\n",
       "    }\n",
       "</style>\n",
       "<table border=\"1\" class=\"dataframe\">\n",
       "  <thead>\n",
       "    <tr style=\"text-align: right;\">\n",
       "      <th></th>\n",
       "      <th>DeepLearningQuestions</th>\n",
       "    </tr>\n",
       "    <tr>\n",
       "      <th>YearQuarter</th>\n",
       "      <th></th>\n",
       "    </tr>\n",
       "  </thead>\n",
       "  <tbody>\n",
       "    <tr>\n",
       "      <th>2014Q3</th>\n",
       "      <td>13</td>\n",
       "    </tr>\n",
       "    <tr>\n",
       "      <th>2014Q4</th>\n",
       "      <td>21</td>\n",
       "    </tr>\n",
       "    <tr>\n",
       "      <th>2015Q1</th>\n",
       "      <td>18</td>\n",
       "    </tr>\n",
       "    <tr>\n",
       "      <th>2015Q2</th>\n",
       "      <td>28</td>\n",
       "    </tr>\n",
       "    <tr>\n",
       "      <th>2015Q3</th>\n",
       "      <td>45</td>\n",
       "    </tr>\n",
       "  </tbody>\n",
       "</table>\n",
       "</div>"
      ],
      "text/plain": [
       "             DeepLearningQuestions\n",
       "YearQuarter                       \n",
       "2014Q3                          13\n",
       "2014Q4                          21\n",
       "2015Q1                          18\n",
       "2015Q2                          28\n",
       "2015Q3                          45"
      ]
     },
     "execution_count": 26,
     "metadata": {},
     "output_type": "execute_result"
    }
   ],
   "source": [
    "# Sum the values in the \"dl_tag\" column (\"1\" or \"0\") per quarter.\n",
    "\n",
    "# Groupby \"YearQuarter,\" and sum the deep learning tags per quarter\n",
    "# Rename \"dl_tag\" to \"DeepLearningQuestions\"\n",
    "dl_q_qtr = all_q.groupby('YearQuarter').agg({'dl_tag': \"sum\"})\n",
    "\n",
    "dl_q_qtr.columns = ['DeepLearningQuestions']\n",
    "\n",
    "dl_q_qtr.head()"
   ]
  },
  {
   "cell_type": "code",
   "execution_count": 27,
   "metadata": {},
   "outputs": [
    {
     "data": {
      "text/html": [
       "<div>\n",
       "<style scoped>\n",
       "    .dataframe tbody tr th:only-of-type {\n",
       "        vertical-align: middle;\n",
       "    }\n",
       "\n",
       "    .dataframe tbody tr th {\n",
       "        vertical-align: top;\n",
       "    }\n",
       "\n",
       "    .dataframe thead th {\n",
       "        text-align: right;\n",
       "    }\n",
       "</style>\n",
       "<table border=\"1\" class=\"dataframe\">\n",
       "  <thead>\n",
       "    <tr style=\"text-align: right;\">\n",
       "      <th></th>\n",
       "      <th>YearQuarter</th>\n",
       "      <th>TotalQuestions</th>\n",
       "      <th>DeepLearningQuestions</th>\n",
       "    </tr>\n",
       "  </thead>\n",
       "  <tbody>\n",
       "    <tr>\n",
       "      <th>0</th>\n",
       "      <td>2014Q3</td>\n",
       "      <td>188</td>\n",
       "      <td>13</td>\n",
       "    </tr>\n",
       "    <tr>\n",
       "      <th>1</th>\n",
       "      <td>2014Q4</td>\n",
       "      <td>214</td>\n",
       "      <td>21</td>\n",
       "    </tr>\n",
       "    <tr>\n",
       "      <th>2</th>\n",
       "      <td>2015Q1</td>\n",
       "      <td>189</td>\n",
       "      <td>18</td>\n",
       "    </tr>\n",
       "    <tr>\n",
       "      <th>3</th>\n",
       "      <td>2015Q2</td>\n",
       "      <td>284</td>\n",
       "      <td>28</td>\n",
       "    </tr>\n",
       "    <tr>\n",
       "      <th>4</th>\n",
       "      <td>2015Q3</td>\n",
       "      <td>310</td>\n",
       "      <td>45</td>\n",
       "    </tr>\n",
       "  </tbody>\n",
       "</table>\n",
       "</div>"
      ],
      "text/plain": [
       "  YearQuarter  TotalQuestions  DeepLearningQuestions\n",
       "0      2014Q3             188                     13\n",
       "1      2014Q4             214                     21\n",
       "2      2015Q1             189                     18\n",
       "3      2015Q2             284                     28\n",
       "4      2015Q3             310                     45"
      ]
     },
     "execution_count": 27,
     "metadata": {},
     "output_type": "execute_result"
    }
   ],
   "source": [
    "# Combine into one dataframe:\n",
    "#     total questions by quarter, \"q_qtr\"\n",
    "#     total deep learning questions by quarter, \"q_qtr_dl\"\n",
    "\n",
    "q_qtr = pd.concat([all_q_qtr, dl_q_qtr], axis=1)\n",
    "\n",
    "# Converts index to a column and reset index as integers\n",
    "q_qtr.reset_index(inplace=True)\n",
    "\n",
    "# View first five rows.\n",
    "q_qtr.head()"
   ]
  },
  {
   "cell_type": "markdown",
   "metadata": {},
   "source": [
    "**Compute deep learning question rate by quarter**"
   ]
  },
  {
   "cell_type": "code",
   "execution_count": 28,
   "metadata": {},
   "outputs": [
    {
     "data": {
      "text/html": [
       "<div>\n",
       "<style scoped>\n",
       "    .dataframe tbody tr th:only-of-type {\n",
       "        vertical-align: middle;\n",
       "    }\n",
       "\n",
       "    .dataframe tbody tr th {\n",
       "        vertical-align: top;\n",
       "    }\n",
       "\n",
       "    .dataframe thead th {\n",
       "        text-align: right;\n",
       "    }\n",
       "</style>\n",
       "<table border=\"1\" class=\"dataframe\">\n",
       "  <thead>\n",
       "    <tr style=\"text-align: right;\">\n",
       "      <th></th>\n",
       "      <th>YearQuarter</th>\n",
       "      <th>TotalQuestions</th>\n",
       "      <th>DeepLearningQuestions</th>\n",
       "      <th>dl_rate</th>\n",
       "    </tr>\n",
       "  </thead>\n",
       "  <tbody>\n",
       "    <tr>\n",
       "      <th>0</th>\n",
       "      <td>2014Q3</td>\n",
       "      <td>188</td>\n",
       "      <td>13</td>\n",
       "      <td>0.07</td>\n",
       "    </tr>\n",
       "    <tr>\n",
       "      <th>1</th>\n",
       "      <td>2014Q4</td>\n",
       "      <td>214</td>\n",
       "      <td>21</td>\n",
       "      <td>0.10</td>\n",
       "    </tr>\n",
       "    <tr>\n",
       "      <th>2</th>\n",
       "      <td>2015Q1</td>\n",
       "      <td>189</td>\n",
       "      <td>18</td>\n",
       "      <td>0.10</td>\n",
       "    </tr>\n",
       "    <tr>\n",
       "      <th>3</th>\n",
       "      <td>2015Q2</td>\n",
       "      <td>284</td>\n",
       "      <td>28</td>\n",
       "      <td>0.10</td>\n",
       "    </tr>\n",
       "    <tr>\n",
       "      <th>4</th>\n",
       "      <td>2015Q3</td>\n",
       "      <td>310</td>\n",
       "      <td>45</td>\n",
       "      <td>0.15</td>\n",
       "    </tr>\n",
       "  </tbody>\n",
       "</table>\n",
       "</div>"
      ],
      "text/plain": [
       "  YearQuarter  TotalQuestions  DeepLearningQuestions  dl_rate\n",
       "0      2014Q3             188                     13     0.07\n",
       "1      2014Q4             214                     21     0.10\n",
       "2      2015Q1             189                     18     0.10\n",
       "3      2015Q2             284                     28     0.10\n",
       "4      2015Q3             310                     45     0.15"
      ]
     },
     "execution_count": 28,
     "metadata": {},
     "output_type": "execute_result"
    }
   ],
   "source": [
    "# Compute deep learning question rate by quarter\n",
    "#     = deep learning questions / total questions\n",
    "\n",
    "q_qtr['dl_rate'] = round((q_qtr['DeepLearningQuestions']/\n",
    "                                    q_qtr['TotalQuestions']), 2)\n",
    "q_qtr.head()"
   ]
  },
  {
   "cell_type": "markdown",
   "metadata": {},
   "source": [
    "**Superimposed vertical bar plots and line plot**\n",
    "\n",
    "By quarter, the plots are generated as one plot:\n",
    "- Bar plot: total questions by quarter\n",
    "- Bar plot: deep learning questions by quarter\n",
    "- Line plot: deep learning question rate by quarter"
   ]
  },
  {
   "cell_type": "code",
   "execution_count": 29,
   "metadata": {},
   "outputs": [
    {
     "data": {
      "image/png": "[encoded data removed]",
      "text/plain": [
       "<Figure size 1728x864 with 1 Axes>"
      ]
     },
     "metadata": {},
     "output_type": "display_data"
    }
   ],
   "source": [
    "from matplotlib import pyplot as plt \n",
    "%matplotlib inline\n",
    "\n",
    "plt.style.use('fivethirtyeight')\n",
    "\n",
    "# Multiple the deep learning rate by 5,000 so it fits on the plot\n",
    "q_qtr['DeepLearningRate'] = q_qtr['dl_rate'] * 5000\n",
    "\n",
    "# Deep Learning Rate - Line Graph\n",
    "ax1 = q_qtr.plot(x='YearQuarter', y='DeepLearningRate',\n",
    "                 kind='line', linestyle=\"-\", marker=\"o\", \n",
    "                 color=\"orange\", figsize=(24,12))\n",
    "\n",
    "# Deep Learning questions - Bar Plot\n",
    "ax2 = q_qtr.plot(x='YearQuarter', y='DeepLearningQuestions',\n",
    "                 kind=\"bar\", color='red', width=0.5,\n",
    "                 ax=ax1, alpha=0.7, rot=45)\n",
    "\n",
    "# Total questions - Bar Plot\n",
    "ax3 = q_qtr.plot(x='YearQuarter', y='TotalQuestions',\n",
    "                 kind=\"bar\", color='blue', width=0.3,\n",
    "                 ax=ax1, alpha=0.5, rot=45)\n"
   ]
  },
  {
   "cell_type": "markdown",
   "metadata": {},
   "source": [
    "Deep learning questions was on a growth trend until 2019, where it appears to have plateauing.  The plateau indicates that this topic appears to be sticking around for a while and is not a fad."
   ]
  },
  {
   "cell_type": "markdown",
   "metadata": {},
   "source": [
    "## <font color='red'> CONCLUSION </font>\n",
    "\n",
    "The primary goal of this project was to determine the most popular data science questions on Data Science Stack Exchange, DSSE, so that a company could focus it's content on that area.  In analyzing 2019 posts in DSSE, the tags were counted and the most viewed tags in questions were:  machine learning, python, deep learning, neural network, and keras.  Also, the number of views by tag were counted, and the top five tags were:  python, machine learning, pandas, keras, deep learning.  Although, both lists are similar, the latter is thought to provide a more dependable answer to the question of the most popular questions.\n",
    "\n",
    "Deep learning was in the top five for both previous tag counts.  In order for a company to commit time and resources to creating deep learning material, it is helpful to know whether the topic is just a transient fad or will be a common topic for some time.  In looking at data from 2014 through 2020, the trend was increasing interest in this topic until 2019, then the curve appears to flatten.  The flattening of the curve indicates interest in the topic is stable (neither decreasing or increasing).  Therefore, it appears that deep learning is not just a fad and would be a good topic for a company to invest time and money into developing product focused on deep learning."
   ]
  }
 ],
 "metadata": {
  "kernelspec": {
   "display_name": "Python 3",
   "language": "python",
   "name": "python3"
  },
  "language_info": {
   "codemirror_mode": {
    "name": "ipython",
    "version": 3
   },
   "file_extension": ".py",
   "mimetype": "text/x-python",
   "name": "python",
   "nbconvert_exporter": "python",
   "pygments_lexer": "ipython3",
   "version": "3.8.3"
  }
 },
 "nbformat": 4,
 "nbformat_minor": 4
}
