{
 "cells": [
  {
   "cell_type": "markdown",
   "metadata": {},
   "source": [
    "<h1><center> <font color='blue'> Mobile App to reduce Lottery Addiction </font> </center></h1>\n",
    "\n",
    "***by Susan Fisher***"
   ]
  },
  {
   "cell_type": "markdown",
   "metadata": {},
   "source": [
    "A medical institute wants to create a mobile app to help lottery addicts.  The app will estimate chances of winning based on various scenarios.  The Data Science group will create the logical core and compute probabilities for the app.\n",
    "\n",
    "The Data Science group will build functions that enable players to answer the following questions:\n",
    "1. The probability of winning the big prize in a single ticket i.e. all six numbers on the ticket match all the numbers drawn.\n",
    "2. Function to compare players' ticket numbers to historical data.\n",
    "3. The probability of winning the big prize in any number of tickets.  \n",
    "4. The probability of having 1, 2, 3, 4, or 5 winning numbers on a single ticket.\n",
    "\n",
    "The data set is Canada's national 6/49 lottery game data, from 1982 to 2018.  For each lottery game, a single ticket has six numbers, and six numbers are drawn from a selection of 49 numbers, ranging from 1 to 49.\n",
    "\n",
    "The data can be downlowded from kaggle at:  https://www.kaggle.com/datascienceai/lottery-dataset"
   ]
  },
  {
   "cell_type": "markdown",
   "metadata": {},
   "source": [
    "## <font color='blue'> Data Exploration </font>"
   ]
  },
  {
   "cell_type": "code",
   "execution_count": 1,
   "metadata": {},
   "outputs": [],
   "source": [
    "# Read in the csv file as a dataframe, \"lottery.\"\n",
    "import numpy as np\n",
    "import pandas as pd\n",
    "\n",
    "lottery = pd.read_csv('C:/Users/Name/Documents/PythonScripts/DataSets/649.csv')"
   ]
  },
  {
   "cell_type": "code",
   "execution_count": 2,
   "metadata": {},
   "outputs": [
    {
     "data": {
      "text/html": [
       "<div>\n",
       "<style scoped>\n",
       "    .dataframe tbody tr th:only-of-type {\n",
       "        vertical-align: middle;\n",
       "    }\n",
       "\n",
       "    .dataframe tbody tr th {\n",
       "        vertical-align: top;\n",
       "    }\n",
       "\n",
       "    .dataframe thead th {\n",
       "        text-align: right;\n",
       "    }\n",
       "</style>\n",
       "<table border=\"1\" class=\"dataframe\">\n",
       "  <thead>\n",
       "    <tr style=\"text-align: right;\">\n",
       "      <th></th>\n",
       "      <th>PRODUCT</th>\n",
       "      <th>DRAW NUMBER</th>\n",
       "      <th>SEQUENCE NUMBER</th>\n",
       "      <th>DRAW DATE</th>\n",
       "      <th>NUMBER DRAWN 1</th>\n",
       "      <th>NUMBER DRAWN 2</th>\n",
       "      <th>NUMBER DRAWN 3</th>\n",
       "      <th>NUMBER DRAWN 4</th>\n",
       "      <th>NUMBER DRAWN 5</th>\n",
       "      <th>NUMBER DRAWN 6</th>\n",
       "      <th>BONUS NUMBER</th>\n",
       "    </tr>\n",
       "  </thead>\n",
       "  <tbody>\n",
       "    <tr>\n",
       "      <th>0</th>\n",
       "      <td>649</td>\n",
       "      <td>1</td>\n",
       "      <td>0</td>\n",
       "      <td>6/12/1982</td>\n",
       "      <td>3</td>\n",
       "      <td>11</td>\n",
       "      <td>12</td>\n",
       "      <td>14</td>\n",
       "      <td>41</td>\n",
       "      <td>43</td>\n",
       "      <td>13</td>\n",
       "    </tr>\n",
       "    <tr>\n",
       "      <th>1</th>\n",
       "      <td>649</td>\n",
       "      <td>2</td>\n",
       "      <td>0</td>\n",
       "      <td>6/19/1982</td>\n",
       "      <td>8</td>\n",
       "      <td>33</td>\n",
       "      <td>36</td>\n",
       "      <td>37</td>\n",
       "      <td>39</td>\n",
       "      <td>41</td>\n",
       "      <td>9</td>\n",
       "    </tr>\n",
       "  </tbody>\n",
       "</table>\n",
       "</div>"
      ],
      "text/plain": [
       "   PRODUCT  DRAW NUMBER  SEQUENCE NUMBER  DRAW DATE  NUMBER DRAWN 1  \\\n",
       "0      649            1                0  6/12/1982               3   \n",
       "1      649            2                0  6/19/1982               8   \n",
       "\n",
       "   NUMBER DRAWN 2  NUMBER DRAWN 3  NUMBER DRAWN 4  NUMBER DRAWN 5  \\\n",
       "0              11              12              14              41   \n",
       "1              33              36              37              39   \n",
       "\n",
       "   NUMBER DRAWN 6  BONUS NUMBER  \n",
       "0              43            13  \n",
       "1              41             9  "
      ]
     },
     "execution_count": 2,
     "metadata": {},
     "output_type": "execute_result"
    }
   ],
   "source": [
    "lottery.head(2)"
   ]
  },
  {
   "cell_type": "code",
   "execution_count": 3,
   "metadata": {},
   "outputs": [
    {
     "data": {
      "text/html": [
       "<div>\n",
       "<style scoped>\n",
       "    .dataframe tbody tr th:only-of-type {\n",
       "        vertical-align: middle;\n",
       "    }\n",
       "\n",
       "    .dataframe tbody tr th {\n",
       "        vertical-align: top;\n",
       "    }\n",
       "\n",
       "    .dataframe thead th {\n",
       "        text-align: right;\n",
       "    }\n",
       "</style>\n",
       "<table border=\"1\" class=\"dataframe\">\n",
       "  <thead>\n",
       "    <tr style=\"text-align: right;\">\n",
       "      <th></th>\n",
       "      <th>PRODUCT</th>\n",
       "      <th>DRAW NUMBER</th>\n",
       "      <th>SEQUENCE NUMBER</th>\n",
       "      <th>DRAW DATE</th>\n",
       "      <th>NUMBER DRAWN 1</th>\n",
       "      <th>NUMBER DRAWN 2</th>\n",
       "      <th>NUMBER DRAWN 3</th>\n",
       "      <th>NUMBER DRAWN 4</th>\n",
       "      <th>NUMBER DRAWN 5</th>\n",
       "      <th>NUMBER DRAWN 6</th>\n",
       "      <th>BONUS NUMBER</th>\n",
       "    </tr>\n",
       "  </thead>\n",
       "  <tbody>\n",
       "    <tr>\n",
       "      <th>3662</th>\n",
       "      <td>649</td>\n",
       "      <td>3589</td>\n",
       "      <td>0</td>\n",
       "      <td>6/13/2018</td>\n",
       "      <td>6</td>\n",
       "      <td>22</td>\n",
       "      <td>24</td>\n",
       "      <td>31</td>\n",
       "      <td>32</td>\n",
       "      <td>34</td>\n",
       "      <td>16</td>\n",
       "    </tr>\n",
       "    <tr>\n",
       "      <th>3663</th>\n",
       "      <td>649</td>\n",
       "      <td>3590</td>\n",
       "      <td>0</td>\n",
       "      <td>6/16/2018</td>\n",
       "      <td>2</td>\n",
       "      <td>15</td>\n",
       "      <td>21</td>\n",
       "      <td>31</td>\n",
       "      <td>38</td>\n",
       "      <td>49</td>\n",
       "      <td>8</td>\n",
       "    </tr>\n",
       "    <tr>\n",
       "      <th>3664</th>\n",
       "      <td>649</td>\n",
       "      <td>3591</td>\n",
       "      <td>0</td>\n",
       "      <td>6/20/2018</td>\n",
       "      <td>14</td>\n",
       "      <td>24</td>\n",
       "      <td>31</td>\n",
       "      <td>35</td>\n",
       "      <td>37</td>\n",
       "      <td>48</td>\n",
       "      <td>17</td>\n",
       "    </tr>\n",
       "  </tbody>\n",
       "</table>\n",
       "</div>"
      ],
      "text/plain": [
       "      PRODUCT  DRAW NUMBER  SEQUENCE NUMBER  DRAW DATE  NUMBER DRAWN 1  \\\n",
       "3662      649         3589                0  6/13/2018               6   \n",
       "3663      649         3590                0  6/16/2018               2   \n",
       "3664      649         3591                0  6/20/2018              14   \n",
       "\n",
       "      NUMBER DRAWN 2  NUMBER DRAWN 3  NUMBER DRAWN 4  NUMBER DRAWN 5  \\\n",
       "3662              22              24              31              32   \n",
       "3663              15              21              31              38   \n",
       "3664              24              31              35              37   \n",
       "\n",
       "      NUMBER DRAWN 6  BONUS NUMBER  \n",
       "3662              34            16  \n",
       "3663              49             8  \n",
       "3664              48            17  "
      ]
     },
     "execution_count": 3,
     "metadata": {},
     "output_type": "execute_result"
    }
   ],
   "source": [
    "lottery.tail(3)"
   ]
  },
  {
   "cell_type": "code",
   "execution_count": 4,
   "metadata": {},
   "outputs": [
    {
     "data": {
      "text/plain": [
       "Index(['PRODUCT', 'DRAW NUMBER', 'SEQUENCE NUMBER', 'DRAW DATE',\n",
       "       'NUMBER DRAWN 1', 'NUMBER DRAWN 2', 'NUMBER DRAWN 3', 'NUMBER DRAWN 4',\n",
       "       'NUMBER DRAWN 5', 'NUMBER DRAWN 6', 'BONUS NUMBER'],\n",
       "      dtype='object')"
      ]
     },
     "execution_count": 4,
     "metadata": {},
     "output_type": "execute_result"
    }
   ],
   "source": [
    "lottery.columns"
   ]
  },
  {
   "cell_type": "code",
   "execution_count": 5,
   "metadata": {},
   "outputs": [
    {
     "data": {
      "text/plain": [
       "(3665, 11)"
      ]
     },
     "execution_count": 5,
     "metadata": {},
     "output_type": "execute_result"
    }
   ],
   "source": [
    "lottery.shape"
   ]
  },
  {
   "cell_type": "markdown",
   "metadata": {},
   "source": [
    "## <font color='blue'> Core Functions </font>\n",
    "The core functions, factorial and combinations, will be used repeatedly in the project."
   ]
  },
  {
   "cell_type": "code",
   "execution_count": 6,
   "metadata": {},
   "outputs": [],
   "source": [
    "# Function to compute Factorial\n",
    "# Factorial example: 5! = 5*4*3*2*1 = 120\n",
    "def factorial(n):\n",
    "    final_product = 1\n",
    "    for x in range(n, 0, -1):\n",
    "        final_product *= x\n",
    "    return final_product"
   ]
  },
  {
   "cell_type": "code",
   "execution_count": 7,
   "metadata": {},
   "outputs": [],
   "source": [
    "# Function to compute Combinations\n",
    "# Combinations: the number of combinations independent of order\n",
    "def combinations(n, k):\n",
    "    num = factorial(n)\n",
    "    den = factorial(k) * factorial(n-k)\n",
    "    return num/den"
   ]
  },
  {
   "cell_type": "markdown",
   "metadata": {},
   "source": [
    "## <font color='blue'> Create Functions to answer various players' questions </font>"
   ]
  },
  {
   "cell_type": "markdown",
   "metadata": {},
   "source": [
    "**(1) Create function to compute probability of winning the big prize with a single ticket.**  \n",
    "\n",
    "For each drawing, six numbers are drawn from 49, and if all six numbers match the players's ticket, then the player wins the big prize.  \n",
    "\n",
    "The Engineering team has informed the Data Science group of the following details of the app:\n",
    "* Inside the app, the player inputs six different numbers from 1 to 49.\n",
    "* Under the hood, the six numbers will come as a Python list, which will serve as the single input to our function.\n",
    "* The function needs to print the probability in a friendly way - in a way that will be understood by those who don't have probability background.  \n",
    "\n",
    "Below, one_ticket_probability() function takes in a list of six unique numbers and prints the probability of winning in a friendly way.  "
   ]
  },
  {
   "cell_type": "code",
   "execution_count": 8,
   "metadata": {},
   "outputs": [],
   "source": [
    "# Function that computes probability of winning big prize on a single ticket,\n",
    "#   or getting all 6 numbers on the ticket match the winning numbers\n",
    "\n",
    "def one_ticket_probability(user_numbers):\n",
    "    total_outcomes = combinations(49,6)\n",
    "    p_one_ticket = 1/total_outcomes * 100\n",
    "    return print(\"Your chances of winning the big prize with your numbers {} is {:0.7f}%.  In other words, you have a one in {:,} chance of winning.\".format(\n",
    "        user_numbers, p_one_ticket, int(total_outcomes)))"
   ]
  },
  {
   "cell_type": "code",
   "execution_count": 9,
   "metadata": {},
   "outputs": [
    {
     "name": "stdout",
     "output_type": "stream",
     "text": [
      "Your chances of winning the big prize with your numbers [5, 11, 17, 23, 39, 42] is 0.0000072%.  In other words, you have a one in 13,983,816 chance of winning.\n"
     ]
    }
   ],
   "source": [
    "# Test one_ticket_probability function\n",
    "one_ticket_probability([5, 11, 17, 23, 39, 42]) "
   ]
  },
  {
   "cell_type": "markdown",
   "metadata": {},
   "source": [
    "**(2) Create function to determine if players' ticket numbers have won the big prize in the past.** \n",
    "\n",
    "The function compares the players' number combination to Canada's historical  6/49 lottery data, and will return the number of times that combination has won the big prize in the past. The data contains 3,665 drawings from 1982 to 2018.  Each row of data is a drawing where the each winning number is in a column, \"NUMBER DRAWN 1,\" \"NUMBER DRAWN 2\"..., \"NUMBER DRAWN 6.\"\n",
    "\n",
    "For the player's ticket combination, the function also returns the probability of winning the big prize in the next drawing.\n",
    "\n",
    "The engineering team informed us that we need to be aware of the following:  \n",
    "* Inside the app, the player inputs six different numbers from 1 to 49.\n",
    "* Under the hood, the six numbers will come as a Python list and serve as an input to our function.  \n",
    "\n",
    "The engineering team wants us to write a function that prints:\n",
    "* the number of times the combination selected occurred in the Canada data set.\n",
    "* the probability of winning the big prize in the next drawing with that combination."
   ]
  },
  {
   "cell_type": "markdown",
   "metadata": {},
   "source": [
    "First, a function to extract all six winning numbers and convert them to a Python set.  "
   ]
  },
  {
   "cell_type": "code",
   "execution_count": 10,
   "metadata": {},
   "outputs": [
    {
     "data": {
      "text/plain": [
       "0    {3, 41, 11, 12, 43, 14}\n",
       "1    {33, 36, 37, 39, 8, 41}\n",
       "2     {1, 6, 39, 23, 24, 27}\n",
       "3     {3, 9, 10, 43, 13, 20}\n",
       "4    {34, 5, 14, 47, 21, 31}\n",
       "dtype: object"
      ]
     },
     "execution_count": 10,
     "metadata": {},
     "output_type": "execute_result"
    }
   ],
   "source": [
    "def extract_numbers(row):\n",
    "    winning_numbers = set()\n",
    "    for x in range(4,10):\n",
    "        winning_numbers.add(row.iloc[x])\n",
    "    return winning_numbers\n",
    "\n",
    "winning_numbers = lottery.apply(extract_numbers, axis=1)\n",
    "winning_numbers.head()"
   ]
  },
  {
   "cell_type": "markdown",
   "metadata": {},
   "source": [
    "Below, the function, check_historical_occurence, takes in the players' six numbers and the historical winning numbers, and prints the number of past wins and probability of winning in the future."
   ]
  },
  {
   "cell_type": "code",
   "execution_count": 11,
   "metadata": {},
   "outputs": [],
   "source": [
    "def check_historical_occurence(user_numbers, winning_numbers):\n",
    "    # user numbers: a Python list\n",
    "    # winniner numbers: pandas series\n",
    "    \n",
    "    user_numbers = set(user_numbers)\n",
    "    check_occurrence = user_numbers == winning_numbers\n",
    "    n_occurrences = check_occurrence.sum()\n",
    "    \n",
    "    if n_occurrences == 0:\n",
    "        return print(\"For your number combination {}, in the past, there were no winners.  Your chances of winning the big prize in the next drawing using your numbers {} are 0.0000072%, or 1 in 13,983,816 chance to win.\".format(user_numbers,user_numbers))\n",
    "    else:\n",
    "        return print(\"For your number combindation {}, in the past, there were {} winners.  Your chances of winning the big prize in the next drawing using your numbers {} are 0.0000072%, or 1 in 13,983,816 chance to win.\".format(user_numbers, n_occurrences, user_numbers))"
   ]
  },
  {
   "cell_type": "code",
   "execution_count": 12,
   "metadata": {},
   "outputs": [
    {
     "name": "stdout",
     "output_type": "stream",
     "text": [
      "For your number combination {5, 39, 42, 11, 17, 23}, in the past, there were no winners.  Your chances of winning the big prize in the next drawing using your numbers {5, 39, 42, 11, 17, 23} are 0.0000072%, or 1 in 13,983,816 chance to win.\n",
      "For your number combindation {3, 41, 11, 12, 43, 14}, in the past, there were 1 winners.  Your chances of winning the big prize in the next drawing using your numbers {3, 41, 11, 12, 43, 14} are 0.0000072%, or 1 in 13,983,816 chance to win.\n",
      "None\n",
      "None\n"
     ]
    }
   ],
   "source": [
    "# Test check_historical_occurence function\n",
    "\n",
    "# random numbers\n",
    "test1 = check_historical_occurence([5, 11, 17, 23, 39, 42], winning_numbers)\n",
    "\n",
    "# line #1 of historical data: should be at least 1 match\n",
    "test2 = check_historical_occurence([3, 41, 11, 12, 43, 14], winning_numbers)\n",
    "print(test1, test2, sep='\\n')"
   ]
  },
  {
   "cell_type": "markdown",
   "metadata": {},
   "source": [
    "**(3) Create function to compute probability of winning the big prize for any number of tickets.**  \n",
    "\n",
    "If a player wants to puchase more than one lottery ticket, or five, or ten, etc. then player can find the probability of winning the big prize based on number of lottery tickets.  \n",
    "\n",
    "The engineering team passed on the following information:\n",
    "* The user will input the number of different tickets they want to play (without inputting the specific combinations they intend to play).\n",
    "* Our function will see an integer between 1 and 13,983,816 (the maximum number of different tickets).\n",
    "* The function should print information about the probability of winning the big prize depending on the number of different tickets played.\n",
    "\n",
    "The function, multi_ticket_probability, takes in the number of lottery tickets, and prints the probability of winning the big prize based on the number of tickets.  "
   ]
  },
  {
   "cell_type": "code",
   "execution_count": 13,
   "metadata": {},
   "outputs": [],
   "source": [
    "# Function takes in an integer from 1 to 13,983,816 (max # of combinations)\n",
    "def multi_ticket_probability(n_tickets):\n",
    "    total_outcomes = combinations(49,6)\n",
    "    p_n_tickets = n_tickets/total_outcomes * 100\n",
    "    return print(\"Your chances of winning the big prize with {} of tickets is {:0.7f}%.  In other words, you have a one in {:,} chance of winning.\".format(\n",
    "        n_tickets,p_n_tickets, int(total_outcomes)))"
   ]
  },
  {
   "cell_type": "code",
   "execution_count": 14,
   "metadata": {},
   "outputs": [
    {
     "name": "stdout",
     "output_type": "stream",
     "text": [
      "Your chances of winning the big prize with 1 of tickets is 0.0000072%.  In other words, you have a one in 13,983,816 chance of winning.\n",
      "-----------------\n",
      "Your chances of winning the big prize with 10 of tickets is 0.0000715%.  In other words, you have a one in 13,983,816 chance of winning.\n",
      "-----------------\n",
      "Your chances of winning the big prize with 100 of tickets is 0.0007151%.  In other words, you have a one in 13,983,816 chance of winning.\n",
      "-----------------\n",
      "Your chances of winning the big prize with 1000 of tickets is 0.0071511%.  In other words, you have a one in 13,983,816 chance of winning.\n",
      "-----------------\n",
      "Your chances of winning the big prize with 100000 of tickets is 0.7151124%.  In other words, you have a one in 13,983,816 chance of winning.\n",
      "-----------------\n",
      "Your chances of winning the big prize with 6991908 of tickets is 50.0000000%.  In other words, you have a one in 13,983,816 chance of winning.\n",
      "-----------------\n",
      "Your chances of winning the big prize with 13983816 of tickets is 100.0000000%.  In other words, you have a one in 13,983,816 chance of winning.\n",
      "-----------------\n"
     ]
    }
   ],
   "source": [
    "# Test multi_ticket_probability function:\n",
    "n_tickets = [1, 10, 100, 1000, 10**5, 6991908, 13983816]\n",
    "for number in n_tickets:\n",
    "    multi_ticket_probability(number)\n",
    "    print('-----------------')"
   ]
  },
  {
   "cell_type": "markdown",
   "metadata": {},
   "source": [
    "**(4) Create function to compute probability of matching 2, 3, 4, or 5 winning numbers on a single ticket.**  \n",
    "\n",
    "In the 6/49 lottery, there is a smaller prize for matching two, three, four, or five numbers.  \n",
    "\n",
    "The engineering details are:\n",
    "* Inside the app, the user inputs:  \n",
    "    * six different numbers from 1 to 49\n",
    "    * an integer between 2 and 5 that represents the number of winning numbers expected\n",
    "* the function prints information about the probability of having the inputted number of winning numbers."
   ]
  },
  {
   "cell_type": "markdown",
   "metadata": {},
   "source": [
    "The function, probability_less_6, only takes in the number of winning numbers that the player expects, number between 2 - 5.  \n",
    "This probability is independent of the players' number combination.  \n",
    "\n",
    "The function computes the probability of that a player's ticket matches exactly the given number of winning\n",
    "numbers i.e. *exactly* two numbers, *exactly* three numbers..., or *exactly* five numbers, and not *at least* two numbers or *at least* five numbers.  "
   ]
  },
  {
   "cell_type": "code",
   "execution_count": 15,
   "metadata": {},
   "outputs": [],
   "source": [
    "# Function probably of having x number of winning numbers\n",
    "def probability_less_6(n_win_numbers):\n",
    "    n_combinations = combinations(6,n_win_numbers)\n",
    "    n_combinations_remaining = combinations(43, 6 - n_win_numbers)\n",
    "    success_outcomes = n_combinations * n_combinations_remaining\n",
    "    total_combinations = combinations(49,6)\n",
    "    p_n_win_numbers = success_outcomes / total_combinations * 100\n",
    "    print(\"The probability that you will receive {} winning numbers on a single ticket is {:0.4f}%.  Or you have a 1 in {} chance of winning.\".format(n_win_numbers, p_n_win_numbers, int(n_combinations)))"
   ]
  },
  {
   "cell_type": "code",
   "execution_count": 16,
   "metadata": {},
   "outputs": [
    {
     "name": "stdout",
     "output_type": "stream",
     "text": [
      "The probability that you will receive 2 winning numbers on a single ticket is 13.2378%.  Or you have a 1 in 15 chance of winning.\n",
      "-----------------\n",
      "The probability that you will receive 3 winning numbers on a single ticket is 1.7650%.  Or you have a 1 in 20 chance of winning.\n",
      "-----------------\n",
      "The probability that you will receive 4 winning numbers on a single ticket is 0.0969%.  Or you have a 1 in 15 chance of winning.\n",
      "-----------------\n",
      "The probability that you will receive 5 winning numbers on a single ticket is 0.0018%.  Or you have a 1 in 6 chance of winning.\n",
      "-----------------\n"
     ]
    }
   ],
   "source": [
    "# Test probability_less_6 function\n",
    "n_win_numbers = [2,3,4,5]\n",
    "for number in n_win_numbers:\n",
    "    probability_less_6(number)\n",
    "    print('-----------------')"
   ]
  },
  {
   "cell_type": "markdown",
   "metadata": {},
   "source": [
    "## <font color='blue'> CONCLUSION </font>\n",
    "\n",
    "For the first version of the app, the following functions were built:  \n",
    "1. one_ticket_probability() — calculates the probability of winning the big prize with a single ticket\n",
    "2. check_historical_occurrence() — checks whether a certain combination has occurred in the Canada lottery data set\n",
    "3. multi_ticket_probability() — calculates the probability for any number of tickets between 1 and 13,983,816\n",
    "4. probability_less_6() — calculates the probability of having two, three, four or five winning numbers  "
   ]
  },
  {
   "cell_type": "markdown",
   "metadata": {},
   "source": [
    "For future iterations of this project, possible next steps are:\n",
    "* Combine the one_ticket_probability() and check_historical_occurrence() to return probability with historical occurrence.\n",
    "* Create a function similar to probability_less_6() that computes the probabilty of *at least* two, three, four, or five numbers.  (the number of successful outcomes for having at least four winning numbers is sum of\n",
    "    + number of successful outcomes for having *exactly* four winning numbers\n",
    "    + number of successful outcomes for having *exactly* five winning numbers\n",
    "    + number of successful outcomes for having *exactly* six winning numbers"
   ]
  }
 ],
 "metadata": {
  "kernelspec": {
   "display_name": "Python 3",
   "language": "python",
   "name": "python3"
  },
  "language_info": {
   "codemirror_mode": {
    "name": "ipython",
    "version": 3
   },
   "file_extension": ".py",
   "mimetype": "text/x-python",
   "name": "python",
   "nbconvert_exporter": "python",
   "pygments_lexer": "ipython3",
   "version": "3.8.5"
  }
 },
 "nbformat": 4,
 "nbformat_minor": 4
}
