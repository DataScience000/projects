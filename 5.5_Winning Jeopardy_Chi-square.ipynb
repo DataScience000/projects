{
 "cells": [
  {
   "cell_type": "markdown",
   "metadata": {},
   "source": [
    "# <font color='blue'> Winning Jeopardy - apply Chi-square test </font>\n",
    "\n",
    "*by Susan Fisher*"
   ]
  },
  {
   "cell_type": "markdown",
   "metadata": {},
   "source": [
    "If you're going to be a contestant on the Jeopardy game show, you might wonder whether it is beneficial to study past questions or to not study them at all.  This project quantitatively shows that performance can be improved by studying past questions.  \n",
    "\n",
    "A focus on studying questions that are high money value versus low money value could be a way to make more money on the game show.  The chi-square test statistic is used to determine whether there is a significant difference in word usage for high value questions versus low value ones.  \n",
    "\n",
    "The dataset contains 216,930 rows of questions, answers, and money value.  For this project, the data will be reduced to 10,000 rows so the code will compile in a timely fashion.  \n",
    "\n",
    "The following website is where the data can be downloaded and additional information can be found:   https://www.reddit.com/r/datasets/comments/1uyd0t/200000_jeopardy_questions_in_a_json_file/"
   ]
  },
  {
   "cell_type": "code",
   "execution_count": 1,
   "metadata": {},
   "outputs": [],
   "source": [
    "# Read in the dataset and import numpy and pandas libraries\n",
    "\n",
    "import numpy as np\n",
    "import pandas as pd\n",
    "\n",
    "raw_data = pd.read_csv('C:/Users/Name/Documents/Python Scripts/DataSets/JEOPARDY_CSV.csv')"
   ]
  },
  {
   "cell_type": "code",
   "execution_count": 2,
   "metadata": {},
   "outputs": [
    {
     "data": {
      "text/plain": [
       "(10846, 7)"
      ]
     },
     "execution_count": 2,
     "metadata": {},
     "output_type": "execute_result"
    }
   ],
   "source": [
    "# Reduce dataset from 219,930 by taking 5% to be used for this project.\n",
    "# The full dataset will take more time to compile the code.\n",
    "\n",
    "# Take a random sample of 5% of the original dataset\n",
    "n_rows = round(len(raw_data) * 0.05)\n",
    "jeopardy =  raw_data.sample(n=n_rows, random_state=1, axis=0).reset_index(drop=True)\n",
    "\n",
    "jeopardy.shape"
   ]
  },
  {
   "cell_type": "markdown",
   "metadata": {},
   "source": [
    "## <font color='blue'> DATA EXPLORATION </font>"
   ]
  },
  {
   "cell_type": "code",
   "execution_count": 3,
   "metadata": {},
   "outputs": [
    {
     "data": {
      "text/html": [
       "<div>\n",
       "<style scoped>\n",
       "    .dataframe tbody tr th:only-of-type {\n",
       "        vertical-align: middle;\n",
       "    }\n",
       "\n",
       "    .dataframe tbody tr th {\n",
       "        vertical-align: top;\n",
       "    }\n",
       "\n",
       "    .dataframe thead th {\n",
       "        text-align: right;\n",
       "    }\n",
       "</style>\n",
       "<table border=\"1\" class=\"dataframe\">\n",
       "  <thead>\n",
       "    <tr style=\"text-align: right;\">\n",
       "      <th></th>\n",
       "      <th>Show Number</th>\n",
       "      <th>Air Date</th>\n",
       "      <th>Round</th>\n",
       "      <th>Category</th>\n",
       "      <th>Value</th>\n",
       "      <th>Question</th>\n",
       "      <th>Answer</th>\n",
       "    </tr>\n",
       "  </thead>\n",
       "  <tbody>\n",
       "    <tr>\n",
       "      <th>0</th>\n",
       "      <td>5842</td>\n",
       "      <td>2010-01-26</td>\n",
       "      <td>Double Jeopardy!</td>\n",
       "      <td>OF DISCIPLINE</td>\n",
       "      <td>$2000</td>\n",
       "      <td>This type of yoga is Sanskrit for \"discipline ...</td>\n",
       "      <td>hatha yoga</td>\n",
       "    </tr>\n",
       "    <tr>\n",
       "      <th>1</th>\n",
       "      <td>1322</td>\n",
       "      <td>1990-05-08</td>\n",
       "      <td>Jeopardy!</td>\n",
       "      <td>HISTORY</td>\n",
       "      <td>$300</td>\n",
       "      <td>4 treaties to mitigate the horrors of war were...</td>\n",
       "      <td>Geneva</td>\n",
       "    </tr>\n",
       "    <tr>\n",
       "      <th>2</th>\n",
       "      <td>4136</td>\n",
       "      <td>2002-09-02</td>\n",
       "      <td>Double Jeopardy!</td>\n",
       "      <td>EYE ON ASIA</td>\n",
       "      <td>$400</td>\n",
       "      <td>On Dec. 13, 1937 Japan took over the city of N...</td>\n",
       "      <td>China</td>\n",
       "    </tr>\n",
       "  </tbody>\n",
       "</table>\n",
       "</div>"
      ],
      "text/plain": [
       "   Show Number    Air Date             Round       Category  Value  \\\n",
       "0         5842  2010-01-26  Double Jeopardy!  OF DISCIPLINE  $2000   \n",
       "1         1322  1990-05-08         Jeopardy!        HISTORY   $300   \n",
       "2         4136  2002-09-02  Double Jeopardy!    EYE ON ASIA   $400   \n",
       "\n",
       "                                            Question      Answer  \n",
       "0  This type of yoga is Sanskrit for \"discipline ...  hatha yoga  \n",
       "1  4 treaties to mitigate the horrors of war were...      Geneva  \n",
       "2  On Dec. 13, 1937 Japan took over the city of N...       China  "
      ]
     },
     "execution_count": 3,
     "metadata": {},
     "output_type": "execute_result"
    }
   ],
   "source": [
    "jeopardy.head(3)"
   ]
  },
  {
   "cell_type": "code",
   "execution_count": 4,
   "metadata": {},
   "outputs": [
    {
     "name": "stdout",
     "output_type": "stream",
     "text": [
      "<class 'pandas.core.frame.DataFrame'>\n",
      "RangeIndex: 10846 entries, 0 to 10845\n",
      "Data columns (total 7 columns):\n",
      " #   Column       Non-Null Count  Dtype \n",
      "---  ------       --------------  ----- \n",
      " 0   Show Number  10846 non-null  int64 \n",
      " 1    Air Date    10846 non-null  object\n",
      " 2    Round       10846 non-null  object\n",
      " 3    Category    10846 non-null  object\n",
      " 4    Value       10846 non-null  object\n",
      " 5    Question    10846 non-null  object\n",
      " 6    Answer      10846 non-null  object\n",
      "dtypes: int64(1), object(6)\n",
      "memory usage: 593.3+ KB\n"
     ]
    }
   ],
   "source": [
    "jeopardy.info()"
   ]
  },
  {
   "cell_type": "code",
   "execution_count": 5,
   "metadata": {},
   "outputs": [
    {
     "data": {
      "text/plain": [
       "(10846, 7)"
      ]
     },
     "execution_count": 5,
     "metadata": {},
     "output_type": "execute_result"
    }
   ],
   "source": [
    "jeopardy.shape"
   ]
  },
  {
   "cell_type": "markdown",
   "metadata": {},
   "source": [
    "## <font color='blue'> DATA CLEANING </font>\n",
    "\n",
    "For data analysis, the following data cleaning is needed:\n",
    "1) Column Names: remove leading space  \n",
    "2) 'Question' and 'Answer' columns: remove punctuation, and convert all words to lowercase  \n",
    "3) 'Value' column: remove '$', and convert to numeric type  \n",
    "4) 'Air Date' column: convert to datetime type"
   ]
  },
  {
   "cell_type": "markdown",
   "metadata": {},
   "source": [
    "**(1) Data Cleaning - Column Names**\n",
    ">Remove leading space"
   ]
  },
  {
   "cell_type": "code",
   "execution_count": 6,
   "metadata": {},
   "outputs": [
    {
     "data": {
      "text/plain": [
       "Index(['Show Number', ' Air Date', ' Round', ' Category', ' Value',\n",
       "       ' Question', ' Answer'],\n",
       "      dtype='object')"
      ]
     },
     "execution_count": 6,
     "metadata": {},
     "output_type": "execute_result"
    }
   ],
   "source": [
    "# Column names: before removing leading space\n",
    "jeopardy.columns"
   ]
  },
  {
   "cell_type": "code",
   "execution_count": 7,
   "metadata": {},
   "outputs": [
    {
     "data": {
      "text/plain": [
       "Index(['Show Number', 'Air Date', 'Round', 'Category', 'Value', 'Question',\n",
       "       'Answer'],\n",
       "      dtype='object')"
      ]
     },
     "execution_count": 7,
     "metadata": {},
     "output_type": "execute_result"
    }
   ],
   "source": [
    "# Column names: remove leading space\n",
    "jeopardy.columns = jeopardy.columns.str.replace('^\\s', '')\n",
    "\n",
    "jeopardy.columns"
   ]
  },
  {
   "cell_type": "markdown",
   "metadata": {},
   "source": [
    "**(2) Data Cleaning - 'Question' and 'Answer' columns**\n",
    ">Remove punctuation, and convert all words to lowercase."
   ]
  },
  {
   "cell_type": "code",
   "execution_count": 8,
   "metadata": {},
   "outputs": [
    {
     "name": "stdout",
     "output_type": "stream",
     "text": [
      "0    This type of yoga is Sanskrit for \"discipline ...\n",
      "1    4 treaties to mitigate the horrors of war were...\n",
      "2    On Dec. 13, 1937 Japan took over the city of N...\n",
      "3    It's the island where Fay Wray first encounter...\n",
      "4    The Metropolitan Museum of Art paid a record $...\n",
      "Name: Question, dtype: object\n",
      "\n",
      "\n",
      "0       hatha yoga\n",
      "1           Geneva\n",
      "2            China\n",
      "3     Skull Island\n",
      "4    Playing cards\n",
      "Name: Answer, dtype: object\n"
     ]
    }
   ],
   "source": [
    "# 'Question' and 'Answer' columns: before data cleaning\n",
    "print(jeopardy['Question'].head())\n",
    "print('\\n')\n",
    "print(jeopardy['Answer'].head())"
   ]
  },
  {
   "cell_type": "code",
   "execution_count": 9,
   "metadata": {},
   "outputs": [
    {
     "name": "stdout",
     "output_type": "stream",
     "text": [
      "0    this type of yoga is sanskrit for discipline o...\n",
      "1    4 treaties to mitigate the horrors of war were...\n",
      "2    on dec 13 1937 japan took over the city of nan...\n",
      "3    its the island where fay wray first encountere...\n",
      "4    the metropolitan museum of art paid a record 1...\n",
      "Name: clean_question, dtype: object\n",
      "\n",
      "\n",
      "0       hatha yoga\n",
      "1           geneva\n",
      "2            china\n",
      "3     skull island\n",
      "4    playing cards\n",
      "Name: clean_answer, dtype: object\n"
     ]
    }
   ],
   "source": [
    "# 'Question' and 'Answer' columns:\n",
    "     # convert all letters to lowercase\n",
    "     # removes all punctuation, except white spaces\n",
    "        \n",
    "jeopardy['clean_question'] = jeopardy['Question'].str.replace('[^A-Za-z0-9\\s]', '').str.lower()\n",
    "jeopardy['clean_answer'] = jeopardy['Answer'].str.replace('[^A-Za-z0-9\\s]', '').str.lower()\n",
    "\n",
    "print(jeopardy['clean_question'].head())\n",
    "print('\\n')\n",
    "print(jeopardy['clean_answer'].head())"
   ]
  },
  {
   "cell_type": "markdown",
   "metadata": {},
   "source": [
    "**(3) Data Cleaning - 'Value' column**\n",
    ">Remove '$', and convert to numeric type"
   ]
  },
  {
   "cell_type": "code",
   "execution_count": 10,
   "metadata": {},
   "outputs": [
    {
     "data": {
      "text/plain": [
       "$9,000    1\n",
       "$1,111    1\n",
       "$8,600    1\n",
       "$8,000    1\n",
       "$4,800    1\n",
       "$3,800    1\n",
       "$4,008    1\n",
       "$5,600    1\n",
       "$7,800    1\n",
       "$2,700    1\n",
       "Name: Value, dtype: int64"
      ]
     },
     "execution_count": 10,
     "metadata": {},
     "output_type": "execute_result"
    }
   ],
   "source": [
    "# 'Value' column: before cleaning\n",
    "jeopardy['Value'].value_counts().tail(10)"
   ]
  },
  {
   "cell_type": "code",
   "execution_count": 11,
   "metadata": {},
   "outputs": [
    {
     "data": {
      "text/plain": [
       "array(['2000', '300', '400', '100', '800', '3000', '600', '500', '200',\n",
       "       '1000', '1200', 'None', '1600', '2500', '1400', '4000', '5000',\n",
       "       '1500', '2200', '2600', '4400', '700', '3200', '1800', '2700',\n",
       "       '3400', '8000', '10000', '4008', '1900', '2100', '5600', '7800',\n",
       "       '1700', '2800', '1300', '3800', '900', '6000', '3600', '4800',\n",
       "       '1100', '2400', '1111', '5400', '9000', '8600', '3500', '4200'],\n",
       "      dtype=object)"
      ]
     },
     "execution_count": 11,
     "metadata": {},
     "output_type": "execute_result"
    }
   ],
   "source": [
    "# 'Value' column: remove '$', and convert to numeric type\n",
    "\n",
    "jeopardy['clean_value'] = jeopardy['Value'].str.replace('[^A-Za-z0-9\\s]', '')\n",
    "\n",
    "jeopardy['clean_value'].unique()"
   ]
  },
  {
   "cell_type": "code",
   "execution_count": 12,
   "metadata": {},
   "outputs": [
    {
     "name": "stdout",
     "output_type": "stream",
     "text": [
      "int32\n"
     ]
    },
    {
     "data": {
      "text/plain": [
       "array([ 2000,   300,   400,   100,   800,  3000,   600,   500,   200,\n",
       "        1000,  1200,     0,  1600,  2500,  1400,  4000,  5000,  1500,\n",
       "        2200,  2600,  4400,   700,  3200,  1800,  2700,  3400,  8000,\n",
       "       10000,  4008,  1900,  2100,  5600,  7800,  1700,  2800,  1300,\n",
       "        3800,   900,  6000,  3600,  4800,  1100,  2400,  1111,  5400,\n",
       "        9000,  8600,  3500,  4200])"
      ]
     },
     "execution_count": 12,
     "metadata": {},
     "output_type": "execute_result"
    }
   ],
   "source": [
    "# 'Value' column:  replace 'None' with '0', then convert to numeric type\n",
    "\n",
    "jeopardy['clean_value'] = jeopardy['clean_value'].str.replace('None', '0').astype(int)\n",
    "\n",
    "print(jeopardy['clean_value'].dtype)\n",
    "jeopardy['clean_value'].unique()"
   ]
  },
  {
   "cell_type": "markdown",
   "metadata": {},
   "source": [
    "**(4) Data Cleaning - 'Air' column**\n",
    ">Convert to datetime type"
   ]
  },
  {
   "cell_type": "code",
   "execution_count": 13,
   "metadata": {},
   "outputs": [
    {
     "data": {
      "text/plain": [
       "dtype('<M8[ns]')"
      ]
     },
     "execution_count": 13,
     "metadata": {},
     "output_type": "execute_result"
    }
   ],
   "source": [
    "jeopardy['Air Date'] = pd.to_datetime(jeopardy['Air Date'])\n",
    "jeopardy['Air Date'].dtype"
   ]
  },
  {
   "cell_type": "markdown",
   "metadata": {},
   "source": [
    "## <font color='blue'> DATA ANALYSIS </font>\n",
    "\n",
    "The first part of the analysis will look at whether studying past questions can improve a contestant's performance on the game show, Jeopary.  The second part of the analysis will try to answer if more money can be made by focusing on high money value questions versus low money value ones.\n",
    "\n",
    "\n",
    "To decide on studying past questions, it would be helpful to know the following: \n",
    "1. how often the answer is deducible from the question\n",
    "2. how often new questions are repeats of older questions"
   ]
  },
  {
   "cell_type": "markdown",
   "metadata": {},
   "source": [
    "**Data Analysis - Study Past Questions**  \n",
    ">How often the answer is deducible from the question: find the number of times words in the answer also occur in the question."
   ]
  },
  {
   "cell_type": "code",
   "execution_count": 14,
   "metadata": {},
   "outputs": [
    {
     "data": {
      "text/plain": [
       "0.05959285633128524"
      ]
     },
     "execution_count": 14,
     "metadata": {},
     "output_type": "execute_result"
    }
   ],
   "source": [
    "# Study Past Questions: how often the answer is deducible from the question.\n",
    "\n",
    "# Create function, count_matches, that for every word in the answer, counts the matches in the question.\n",
    "# The function returns the frequency of occurrence of each word match in both the answer and question.\n",
    "\n",
    "def count_matches(row):\n",
    "    match_count = 0\n",
    "\n",
    "    # convert string to a list of strings\n",
    "    split_question = row['clean_question'].split()\n",
    "    split_answer = row['clean_answer'].split()\n",
    " \n",
    "    # removes article, \"the,\" since it is not relevant\n",
    "    if \"the\" in split_answer:\n",
    "            split_answer.remove('the')\n",
    "    if len(split_answer) == 0:\n",
    "            return 0\n",
    "    \n",
    "    for item in split_answer:\n",
    "        if item in split_question:\n",
    "            match_count += 1\n",
    "    return (match_count / len(split_answer))\n",
    "\n",
    "jeopardy['answer_in_question'] = jeopardy.apply(count_matches, axis=1)\n",
    "\n",
    "# Mean of 'answer_in_question' column\n",
    "jeopardy['answer_in_question'].mean()"
   ]
  },
  {
   "cell_type": "markdown",
   "metadata": {},
   "source": [
    "The mean is only 6%, so there were few word matches in both the 'question' and 'answer.'  This indicates that the answer is rarely deducible from the question."
   ]
  },
  {
   "cell_type": "markdown",
   "metadata": {},
   "source": [
    "**Data Analysis - Study Past Questions**  \n",
    ">How often new questions are repeats of older questions: find frequency of how often complex words ( > 5 characters) reoccur."
   ]
  },
  {
   "cell_type": "code",
   "execution_count": 15,
   "metadata": {},
   "outputs": [
    {
     "data": {
      "text/plain": [
       "0.6164496056048508"
      ]
     },
     "execution_count": 15,
     "metadata": {},
     "output_type": "execute_result"
    }
   ],
   "source": [
    "# Study Past Questions: how often new questions are repeats of older questions\n",
    "\n",
    "#question_overlap is a list of unique words that \n",
    "question_overlap = []\n",
    "terms_used = set()      #a set only retains unique words\n",
    "\n",
    "jeopardy.sort_values('Air Date', inplace=True)\n",
    "\n",
    "for index, row in jeopardy.iterrows():\n",
    "    split_question = row['clean_question'].split()\n",
    "\n",
    "    #Only keep words that are > 5 characters long\n",
    "    split_question = [word for word in split_question if len(word) > 5]\n",
    "        \n",
    "    match_count = 0\n",
    "\n",
    "    for word in split_question:        \n",
    "        if word in terms_used:\n",
    "            match_count += 1\n",
    "    for word in split_question:\n",
    "        terms_used.add(word)\n",
    "\n",
    "    if len(split_question) > 0:\n",
    "        match_count /= len(split_question)\n",
    "\n",
    "    question_overlap.append(match_count)\n",
    "\n",
    "jeopardy['question_overlap'] = question_overlap\n",
    "\n",
    "jeopardy['question_overlap'].mean()"
   ]
  },
  {
   "cell_type": "markdown",
   "metadata": {},
   "source": [
    "The mean is about 70%, or 70% of certain words are repeated in past questions.  Based on this alone, it appears that review of past questions is a good idea and will improve performance on the game show.  \n",
    "\n",
    "However, the data is only about 10% of the full jeopardy question dataset.  And this analysis was for words with characters > 5, and not for phrases.   "
   ]
  },
  {
   "cell_type": "markdown",
   "metadata": {},
   "source": [
    "**Data Analysis - High value questions vs Low value questions**\n",
    "\n",
    "Focusing on studying questions that are high money value rather than low value ones will help a contestant earn more on Jeopardy.  Chi-squared test will be used to determine whether there is a significant difference in word usage for high value and low value questions.  \n",
    "\n",
    "The question categories are:\n",
    "> Low value questions:  where 'Value' < \\$800  \n",
    "\n",
    "> High value questions: where 'Value' > \\$800"
   ]
  },
  {
   "cell_type": "code",
   "execution_count": 16,
   "metadata": {},
   "outputs": [],
   "source": [
    "# Function, high_values, categorizes questions as high value or low value.\n",
    "# High value questions are assigned a \"1,\" and low value ones are assigned a \"0.\"\n",
    "\n",
    "def high_values(df):\n",
    "    if df['clean_value'] > 800:\n",
    "        value = 1\n",
    "    else:\n",
    "        value = 0\n",
    "    return value\n",
    "\n",
    "jeopardy['high_value'] = jeopardy.apply(high_values, axis=1)"
   ]
  },
  {
   "cell_type": "code",
   "execution_count": 17,
   "metadata": {},
   "outputs": [],
   "source": [
    "#Function, low_high_counts, counts the total number of high value and low value questions\n",
    "\n",
    "def low_high_counts(word):\n",
    "    low_count = 0\n",
    "    high_count = 0\n",
    "    for index, row in jeopardy.iterrows():\n",
    "        if word in row['clean_question'].split(\" \"):\n",
    "            if row['high_value'] == 1:\n",
    "                high_count += 1\n",
    "            else:\n",
    "                low_count += 1\n",
    "    return low_count, high_count"
   ]
  },
  {
   "cell_type": "code",
   "execution_count": 18,
   "metadata": {},
   "outputs": [
    {
     "data": {
      "text/plain": [
       "['effective', 'peanuts', 'proper', 'appeal', 'expreacher']"
      ]
     },
     "execution_count": 18,
     "metadata": {},
     "output_type": "execute_result"
    }
   ],
   "source": [
    "# Randomly select 10 elements of the set of unique words in the questions, 'terms_used'\n",
    "\n",
    "import random\n",
    "comparison_terms = random.sample(terms_used, 10)\n",
    "\n",
    "comparison_terms[:5]    "
   ]
  },
  {
   "cell_type": "code",
   "execution_count": 19,
   "metadata": {},
   "outputs": [
    {
     "data": {
      "text/plain": [
       "[(2, 0), (4, 0), (3, 1), (0, 3), (0, 1)]"
      ]
     },
     "execution_count": 19,
     "metadata": {},
     "output_type": "execute_result"
    }
   ],
   "source": [
    "# Apply function, low_high_counts, to comparison_terms.\n",
    "# For a word in comparison_terms, low_high_counts looks for the word in a question,\n",
    "# then counts as high value or low value question\n",
    "\n",
    "low_high_sample = []\n",
    "\n",
    "for term in comparison_terms:\n",
    "    low_high_sample.append(low_high_counts(term))\n",
    "\n",
    "low_high_sample[:5]"
   ]
  },
  {
   "cell_type": "markdown",
   "metadata": {},
   "source": [
    "Chi-square statistic test can be performed on the sample low/high value counts and the dataset low/high value counts.  The observed data is the low/high counts taken from the random sample of ten unique words in the questions.  The expected data is the low/high counts of the dataset.\n",
    "\n",
    "Chi-square test is given by:\n",
    "\n",
    "\\begin{equation}\n",
    "\\chi^2 = \\sum \\frac{(Observed - Expected) } { Expected }\n",
    "\\end{equation}"
   ]
  },
  {
   "cell_type": "code",
   "execution_count": 20,
   "metadata": {},
   "outputs": [
    {
     "data": {
      "text/plain": [
       "[Power_divergenceResult(statistic=4.892913886240865, pvalue=0.026967135266137608),\n",
       " Power_divergenceResult(statistic=9.78582777248173, pvalue=0.001758620419774108),\n",
       " Power_divergenceResult(statistic=4.10671671794252, pvalue=0.04271320729328355),\n",
       " Power_divergenceResult(statistic=1.226263151058579, pvalue=0.268134998995775),\n",
       " Power_divergenceResult(statistic=0.408754383686193, pvalue=0.522602408963224),\n",
       " Power_divergenceResult(statistic=0.408754383686193, pvalue=0.522602408963224),\n",
       " Power_divergenceResult(statistic=2.4464569431204324, pvalue=0.11779047312453814),\n",
       " Power_divergenceResult(statistic=0.027158159288401405, pvalue=0.8691035073005604),\n",
       " Power_divergenceResult(statistic=0.408754383686193, pvalue=0.522602408963224),\n",
       " Power_divergenceResult(statistic=2.3306260045657328, pvalue=0.12685085501566856)]"
      ]
     },
     "execution_count": 20,
     "metadata": {},
     "output_type": "execute_result"
    }
   ],
   "source": [
    "# Chi-squared test\n",
    "\n",
    "from scipy.stats import chisquare\n",
    "\n",
    "# For expected data: number of rows for high value count & low value count\n",
    "high_value_count = jeopardy[jeopardy['high_value'] == 1].shape[0]\n",
    "low_value_count = jeopardy[jeopardy['high_value'] == 0].shape[0]\n",
    "\n",
    "chi_squared = []\n",
    "\n",
    "for low_high in low_high_sample:\n",
    "    total = sum(low_high)\n",
    "    total_prop = total / jeopardy.shape[0]\n",
    "    high_value_exp = total_prop * high_value_count\n",
    "    low_value_exp = total_prop * low_value_count\n",
    "    \n",
    "    observed = np.array([low_high[0], low_high[1]])\n",
    "    expected = np.array([high_value_exp, low_value_exp])\n",
    "    chi_squared.append(chisquare(observed, expected))\n",
    "\n",
    "chi_squared"
   ]
  },
  {
   "cell_type": "markdown",
   "metadata": {},
   "source": [
    "Of the ten sample points, the Chi-square statistic ranges from 4.9 to 13.3.  Since the Chi-square test statistics are not large, then this indicates that the sample words did not have a statistically significant difference in usage between high value and low value questions (a very large Chi-square value would mean that there is a difference in usage)."
   ]
  },
  {
   "cell_type": "markdown",
   "metadata": {},
   "source": [
    "**<font color='blue'>  CONCLUSION  </font>**\n",
    "\n",
    "This project looked at how to improve a contestant's performance on the game show, Jeopardy.  In order to decide to study past questions or not to, first, an analysis of how often the question is deducible from the answer.  It was only about 6%, so it's unlikely to come up with the question from the answer.\n",
    "\n",
    "Second, an analysis of how often new questions are repeats of older questions.  The result was about 70%, so studying questions can improve one's performance on the game show.  \n",
    "\n",
    "Lastly, Chi-square test was applied in order to determine if there is a significant difference in word usage for high value and low value questions.  Of the ten sample points, it was determined that there was not a significant difference.  "
   ]
  },
  {
   "cell_type": "markdown",
   "metadata": {},
   "source": [
    "For future iterations of this project, some possible next steps are:\n",
    "- Eliminate more non-informative words such as \"than,\" \"a.\"  Perhaps remove words that occur in more than a certain percentage of questions.\n",
    "- In looking at whether questions are repeated, use phrases instead of individual words.  Single words do not provide as accurate of analysis.  \n",
    "- Use the entire dataset rather than just 5% of the data, which this project used.\n",
    "- Apply the chi-square test on more terms to determine which terms have larger differences.  Only select terms that have high frequencies.  \n",
    "- Look at the \"Category\" column to determine if some categories occur more often.  Studying could focus more on those categories."
   ]
  }
 ],
 "metadata": {
  "kernelspec": {
   "display_name": "Python 3",
   "language": "python",
   "name": "python3"
  },
  "language_info": {
   "codemirror_mode": {
    "name": "ipython",
    "version": 3
   },
   "file_extension": ".py",
   "mimetype": "text/x-python",
   "name": "python",
   "nbconvert_exporter": "python",
   "pygments_lexer": "ipython3",
   "version": "3.8.3"
  }
 },
 "nbformat": 4,
 "nbformat_minor": 4
}
